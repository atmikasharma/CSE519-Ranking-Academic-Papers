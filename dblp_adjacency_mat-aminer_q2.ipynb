{
 "cells": [
  {
   "cell_type": "code",
   "execution_count": 1,
   "metadata": {},
   "outputs": [],
   "source": [
    "import pandas as pd\n",
    "import json\n",
    "import math as m\n",
    "from sklearn.metrics import mean_squared_error\n",
    "from sklearn.linear_model import LinearRegression\n",
    "from sklearn import model_selection\n",
    "import collections\n",
    "import re\n",
    "import networkx as nx\n",
    "import nltk\n",
    "from nltk.util import ngrams\n",
    "from sklearn.model_selection import train_test_split\n",
    "from sklearn.pipeline import Pipeline\n",
    "from sklearn.linear_model import SGDClassifier\n",
    "from sklearn.feature_extraction.text import CountVectorizer\n",
    "from sklearn.model_selection import GridSearchCV\n",
    "from sklearn.feature_extraction.text import TfidfTransformer\n",
    "# from sklearn.pipeline import Pipeline, FeatureUnion\n",
    "# from sklearn.feature_extraction.text import TfidfVectorizer\n",
    "# from sklearn.preprocessing import StandardScaler\n",
    "# from sklearn.decomposition import TruncatedSVD\n",
    "# from sklearn.ensemble import RandomForestClassifier\n",
    "# from xgboost import XGBClassifier\n",
    "# from sklearn.base import BaseEstimator, TransformerMixin"
   ]
  },
  {
   "cell_type": "code",
   "execution_count": 2,
   "metadata": {},
   "outputs": [],
   "source": [
    "data_json = []\n",
    "with open('data/dblp-ref-0.json') as f:\n",
    "    for line in f:\n",
    "        data_json.append(json.loads(line))\n",
    "with open('data/dblp-ref-1.json') as f:\n",
    "    for line in f:\n",
    "        data_json.append(json.loads(line))\n",
    "with open('data/dblp-ref-2.json') as f:\n",
    "    for line in f:\n",
    "        data_json.append(json.loads(line))\n",
    "with open('data/dblp-ref-3.json') as f:\n",
    "    for line in f:\n",
    "        data_json.append(json.loads(line))"
   ]
  },
  {
   "cell_type": "code",
   "execution_count": 3,
   "metadata": {},
   "outputs": [],
   "source": [
    "df = pd.DataFrame(data_json)"
   ]
  },
  {
   "cell_type": "code",
   "execution_count": 4,
   "metadata": {},
   "outputs": [],
   "source": [
    "df = df[df['abstract'].notnull()]"
   ]
  },
  {
   "cell_type": "code",
   "execution_count": 5,
   "metadata": {},
   "outputs": [],
   "source": [
    "train_df = df.head(100000).copy()"
   ]
  },
  {
   "cell_type": "code",
   "execution_count": 6,
   "metadata": {},
   "outputs": [],
   "source": [
    "parentdomain = {\n",
    "    \"coding theory\" : \"mathematical foundations\",\n",
    "    \"game theory\" : \"mathematical foundations\",\n",
    "    \"graph theory\" : \"mathematical foundations\",\n",
    "    \"mathematical logic\" : \"mathematical foundations\",\n",
    "    \"boolean logic\" : \"mathematical foundations\",\n",
    "    \"number theory\" : \"mathematical foundations\",\n",
    "    \"mathematical foundations\" : \"mathematical foundations\",\n",
    "    \"algorithms\" : \"algorithms and data structures\",\n",
    "    \"data structures\" : \"algorithms and data structures\",\n",
    "    \"algorithms and data structures\" : \"algorithms and data structures\",\n",
    "    \"automated reasoning\" : \"artificial intelligence\",\n",
    "    \"computer vision\" : \"artificial intelligence\",\n",
    "    \"machine learning\" : \"artificial intelligence\",\n",
    "    \"evolutionary computing\" : \"artificial intelligence\",\n",
    "    \"natural language processing\" : \"artificial intelligence\",    \n",
    "    \"artificial intelligence\" : \"artificial intelligence\",\n",
    "    \"neural network\" : \"artificial intelligence\",\n",
    "    \"speech processing\" : \"artificial intelligence\",\n",
    "    \"information retrieval\" : \"artificial intelligence\",\n",
    "    \"data mining\" : \"artificial intelligence\",\n",
    "    \"robotics\" : \"artificial intelligence\",\n",
    "    \"networking\" : \"communication and security\",\n",
    "    \"computer networks\" : \"communication and security\",\n",
    "    \"communication networks\" : \"communication and security\",\n",
    "    \"cryptography\" : \"communication and security\",\n",
    "    \"communication and security\" : \"communication and security\",\n",
    "    \"network protocols\" : \"communication and security\",\n",
    "    \"network attacks\" : \"communication and security\",\n",
    "    \"operating systems\" : \"computer architecture\",\n",
    "    \"computer architecture\" : \"computer architecture\",\n",
    "    \"image processing\" : \"computer graphics\",\n",
    "    \"information visualization\" : \"computer graphics\",\n",
    "    \"visualization\" : \"computer graphics\",\n",
    "    \"visualisation\" : \"computer graphics\",\n",
    "    \"computer graphics\" : \"computer graphics\",\n",
    "    \"parallel computing\" : \"concurrent, parallel, and distributed systems\",\n",
    "    \"concurrency\" : \"concurrent, parallel, and distributed systems\",\n",
    "    \"distributed computing\" : \"concurrent, parallel, and distributed systems\",\n",
    "    \"concurrent, parallel, and distributed systems\" : \"concurrent, parallel, and distributed systems\",\n",
    "    \"relational databases\" : \"databases\",\n",
    "    \"structured storage\" : \"databases\",\n",
    "    \"databases\" : \"databases\",\n",
    "    \"compiler theory\" : \"programming languages and compilers\",\n",
    "    \"programming language\" : \"programming languages and compilers\",\n",
    "    \"programming language pragmatics\" : \"programming languages and compilers\",\n",
    "    \"programming language theory\" : \"programming languages and compilers\",\n",
    "    \"formal semantics\" : \"programming languages and compilers\",\n",
    "    \"type theory\" : \"programming languages and compilers\",\n",
    "    \"programming languages and compilers\" : \"programming languages and compilers\",\n",
    "    \"computational science\" : \"scientific computing\",\n",
    "    \"numerical analysis\" : \"scientific computing\",\n",
    "    \"symbolic computation \" : \"scientific computing\",\n",
    "    \"computational physics\" : \"scientific computing\",\n",
    "    \"computational chemistry\" : \"scientific computing\",\n",
    "    \"bioinformatics\" : \"scientific computing\",\n",
    "    \"computational biology\" : \"scientific computing\",\n",
    "    \"computational neuroscience\" : \"scientific computing\",\n",
    "    \"scientific computing\" : \"scientific computing\",\n",
    "    \"formal methods\" : \"software engineering\",\n",
    "    \"algorithm design\" : \"software engineering\",\n",
    "    \"computer programming\" : \"software engineering\",\n",
    "    \"human–computer interaction\" : \"software engineering\",\n",
    "    \"reverse engineering\" : \"software engineering\",\n",
    "    \"software engineering\" : \"software engineering\",\n",
    "    \"automata theory \" : \"theory of computation\",\n",
    "    \"computability theory\" : \"theory of computation\",\n",
    "    \"computational complexity theory\" : \"theory of computation\",\n",
    "    \"quantum computing\" : \"theory of computation\",\n",
    "    \"theory of computation\" : \"theory of computation\",   \n",
    "}"
   ]
  },
  {
   "cell_type": "code",
   "execution_count": 7,
   "metadata": {},
   "outputs": [],
   "source": [
    "df_copy = train_df.copy()\n",
    "def getdomainlist(row):\n",
    "    abst = row['abstract'] if type(row['abstract']) != float else  \"\"\n",
    "    venue = row['venue'] if type(row['venue']) != float else  \"\"\n",
    "    \n",
    "    text = abst + \" \" + row['title'] + \" \" + venue\n",
    "    text = text.lower()\n",
    "    text = re.sub(r'[^a-zA-Z0-9\\s]', ' ', text)\n",
    "    tokens = [token for token in text.split(\" \") if token != \"\"]\n",
    "    output1 = list(ngrams(tokens, 1))\n",
    "    output2 = list(ngrams(tokens, 2))\n",
    "    output3 = list(ngrams(tokens, 3))\n",
    "    output = []\n",
    "    for words in output1:\n",
    "        output.append(' '.join(words))\n",
    "    for words in output2:\n",
    "        output.append(' '.join(words))\n",
    "    for words in output3:\n",
    "        output.append(' '.join(words))\n",
    "    domainlist = set()\n",
    "    for word in output:\n",
    "        if word in parentdomain:\n",
    "            domainlist.add(parentdomain[word])\n",
    "    if len(domainlist) > 0:\n",
    "        return list(domainlist)[0]\n",
    "    else:\n",
    "        return \"\"\n",
    "\n",
    "df_copy['domain'] = df_copy.apply(getdomainlist, axis = 1)"
   ]
  },
  {
   "cell_type": "code",
   "execution_count": 8,
   "metadata": {},
   "outputs": [],
   "source": [
    "dffinal = df_copy[df_copy['domain'].map(lambda x: len(x) >0)]"
   ]
  },
  {
   "cell_type": "code",
   "execution_count": 9,
   "metadata": {},
   "outputs": [
    {
     "name": "stderr",
     "output_type": "stream",
     "text": [
      "/jet/var/python/lib/python3.6/site-packages/ipykernel_launcher.py:1: SettingWithCopyWarning: \n",
      "A value is trying to be set on a copy of a slice from a DataFrame.\n",
      "Try using .loc[row_indexer,col_indexer] = value instead\n",
      "\n",
      "See the caveats in the documentation: http://pandas.pydata.org/pandas-docs/stable/indexing.html#indexing-view-versus-copy\n",
      "  \"\"\"Entry point for launching an IPython kernel.\n"
     ]
    }
   ],
   "source": [
    "dffinal['text'] = dffinal[['abstract', 'title', 'venue']].apply(lambda x: ' '.join(x), axis=1)"
   ]
  },
  {
   "cell_type": "code",
   "execution_count": 10,
   "metadata": {},
   "outputs": [
    {
     "name": "stdout",
     "output_type": "stream",
     "text": [
      "Fitting 5 folds for each of 24 candidates, totalling 120 fits\n"
     ]
    },
    {
     "name": "stderr",
     "output_type": "stream",
     "text": [
      "[Parallel(n_jobs=10)]: Using backend LokyBackend with 10 concurrent workers.\n",
      "[Parallel(n_jobs=10)]: Done  30 tasks      | elapsed:  1.5min\n",
      "[Parallel(n_jobs=10)]: Done 120 out of 120 | elapsed:  6.0min finished\n",
      "/jet/var/python/lib/python3.6/site-packages/sklearn/linear_model/stochastic_gradient.py:183: FutureWarning: max_iter and tol parameters have been added in SGDClassifier in 0.19. If max_iter is set but tol is left unset, the default value for tol in 0.19 and 0.20 will be None (which is equivalent to -infinity, so it has no effect) but will change in 0.21 to 1e-3. Specify tol to silence this warning.\n",
      "  FutureWarning)\n"
     ]
    },
    {
     "data": {
      "text/plain": [
       "GridSearchCV(cv=5, error_score='raise-deprecating',\n",
       "       estimator=Pipeline(memory=None,\n",
       "     steps=[('vect', CountVectorizer(analyzer='word', binary=False, decode_error='strict',\n",
       "        dtype=<class 'numpy.int64'>, encoding='utf-8', input='content',\n",
       "        lowercase=True, max_df=1.0, max_features=None, min_df=1,\n",
       "        ngram_range=(1, 1), preprocessor=None, stop_words='english',\n",
       "        ...m_state=None, shuffle=True, tol=None,\n",
       "       validation_fraction=0.1, verbose=0, warm_start=False))]),\n",
       "       fit_params=None, iid='warn', n_jobs=10,\n",
       "       param_grid={'vect__max_df': (0.5, 0.75, 1.0), 'vect__ngram_range': ((1, 1), (1, 2)), 'clf__max_iter': (5,), 'clf__alpha': (1e-05, 1e-06), 'clf__penalty': ('l2', 'elasticnet')},\n",
       "       pre_dispatch='2*n_jobs', refit=True, return_train_score='warn',\n",
       "       scoring=None, verbose=1)"
      ]
     },
     "execution_count": 10,
     "metadata": {},
     "output_type": "execute_result"
    }
   ],
   "source": [
    "X_train, X_test, y_train, y_test = train_test_split(dffinal['text'].head(50000), dffinal['domain'].head(50000), random_state = 0)\n",
    "\n",
    "pipeline = Pipeline([('vect', CountVectorizer(stop_words='english')),\n",
    "                     ('tfidf', TfidfTransformer()),\n",
    "                     ('clf', SGDClassifier(loss='hinge'))\n",
    "                     ])\n",
    "\n",
    "parameters = {\n",
    "    'vect__max_df': (0.5, 0.75, 1.0),\n",
    "    # 'vect__max_features': (None, 5000, 10000, 50000),\n",
    "    'vect__ngram_range': ((1, 1), (1, 2)),  # unigrams or bigrams\n",
    "    # 'tfidf__use_idf': (True, False),\n",
    "    # 'tfidf__norm': ('l1', 'l2'),\n",
    "    'clf__max_iter': (5,),\n",
    "    'clf__alpha': (0.00001, 0.000001),\n",
    "    'clf__penalty': ('l2', 'elasticnet'),\n",
    "    # 'clf__max_iter': (10, 50, 80),\n",
    "}\n",
    "\n",
    "grid_search = GridSearchCV(pipeline, parameters, cv=5,n_jobs=10,\n",
    "                               verbose=1)\n",
    "grid_search.fit(X_train, y_train)"
   ]
  },
  {
   "cell_type": "code",
   "execution_count": null,
   "metadata": {},
   "outputs": [],
   "source": [
    "# X_train, X_test, y_train, y_test = train_test_split(dffinal['text'].head(50000), dffinal['domain'].head(50000), random_state = 0)\n",
    "# class TextSelector(BaseEstimator, TransformerMixin):\n",
    "#     def __init__(self, field):\n",
    "#         self.field = field\n",
    "#     def fit(self, X, y=None):\n",
    "#         return self\n",
    "#     def transform(self, X):\n",
    "#         return X[self.field]\n",
    "\n",
    "# def Tokenizer(str_input):\n",
    "#     words = re.sub(r\"[^A-Za-z0-9\\-]\", \" \", str_input).lower().split()\n",
    "#     porter_stemmer=nltk.PorterStemmer()\n",
    "#     words = [porter_stemmer.stem(word) for word in words]\n",
    "#     return words\n",
    "\n",
    "# classifier = Pipeline([\n",
    "#             ('colext', TextSelector('text')),\n",
    "#             ('tfidf', TfidfVectorizer(tokenizer=Tokenizer, stop_words=\"english\",\n",
    "#                      min_df=.0025, max_df=0.25, ngram_range=(1,3))),\n",
    "#             ('svd', TruncatedSVD(algorithm='randomized', n_components=300)), #for XGB\n",
    "#     ('clf', XGBClassifier(max_depth=3, n_estimators=300, learning_rate=0.1)),\n",
    "# #    ('clf', RandomForestClassifier()),\n",
    "#     ])\n",
    "\n",
    "# parameters = {\n",
    "# #     'vect__max_df': (0.5, 0.75, 1.0),\n",
    "# #     # 'vect__max_features': (None, 5000, 10000, 50000),\n",
    "# #     'vect__ngram_range': ((1, 1), (1, 2)),  # unigrams or bigrams\n",
    "# #     # 'tfidf__use_idf': (True, False),\n",
    "# #     # 'tfidf__norm': ('l1', 'l2'),\n",
    "# #     'clf__max_iter': (5,),\n",
    "# #     'clf__alpha': (0.00001, 0.000001),\n",
    "# #     'clf__penalty': ('l2', 'elasticnet'),\n",
    "#     # 'clf__max_iter': (10, 50, 80),\n",
    "# }\n",
    "\n",
    "# grid_search = GridSearchCV(clas, parameters, cv=5,n_jobs=10,\n",
    "#                                verbose=1)\n",
    "# grid_search.fit(X_train, y_train)"
   ]
  },
  {
   "cell_type": "code",
   "execution_count": 11,
   "metadata": {},
   "outputs": [],
   "source": [
    "df['text'] = df[['abstract', 'title', 'venue']].apply(lambda x: ' '.join(x), axis=1)"
   ]
  },
  {
   "cell_type": "code",
   "execution_count": 23,
   "metadata": {
    "scrolled": true
   },
   "outputs": [
    {
     "data": {
      "text/html": [
       "<div>\n",
       "<style scoped>\n",
       "    .dataframe tbody tr th:only-of-type {\n",
       "        vertical-align: middle;\n",
       "    }\n",
       "\n",
       "    .dataframe tbody tr th {\n",
       "        vertical-align: top;\n",
       "    }\n",
       "\n",
       "    .dataframe thead th {\n",
       "        text-align: right;\n",
       "    }\n",
       "</style>\n",
       "<table border=\"1\" class=\"dataframe\">\n",
       "  <thead>\n",
       "    <tr style=\"text-align: right;\">\n",
       "      <th></th>\n",
       "      <th>abstract</th>\n",
       "      <th>authors</th>\n",
       "      <th>id</th>\n",
       "      <th>n_citation</th>\n",
       "      <th>references</th>\n",
       "      <th>title</th>\n",
       "      <th>venue</th>\n",
       "      <th>year</th>\n",
       "      <th>text</th>\n",
       "      <th>domain</th>\n",
       "    </tr>\n",
       "  </thead>\n",
       "  <tbody>\n",
       "  </tbody>\n",
       "</table>\n",
       "</div>"
      ],
      "text/plain": [
       "Empty DataFrame\n",
       "Columns: [abstract, authors, id, n_citation, references, title, venue, year, text, domain]\n",
       "Index: []"
      ]
     },
     "execution_count": 23,
     "metadata": {},
     "output_type": "execute_result"
    }
   ],
   "source": [
    "df[df['id'] == '7bb71afa-91b8-46e7-9008-da84e0427b93']"
   ]
  },
  {
   "cell_type": "code",
   "execution_count": 12,
   "metadata": {},
   "outputs": [
    {
     "data": {
      "text/plain": [
       "2548532"
      ]
     },
     "execution_count": 12,
     "metadata": {},
     "output_type": "execute_result"
    }
   ],
   "source": [
    "len(df)"
   ]
  },
  {
   "cell_type": "code",
   "execution_count": 13,
   "metadata": {},
   "outputs": [],
   "source": [
    "#tdf = df.head(1500000).copy()"
   ]
  },
  {
   "cell_type": "code",
   "execution_count": 14,
   "metadata": {},
   "outputs": [],
   "source": [
    "answer = grid_search.predict(df['text'].values.tolist())"
   ]
  },
  {
   "cell_type": "code",
   "execution_count": 15,
   "metadata": {},
   "outputs": [],
   "source": [
    "df['domain'] = answer.tolist()"
   ]
  },
  {
   "cell_type": "code",
   "execution_count": 16,
   "metadata": {},
   "outputs": [],
   "source": [
    "pidtod = {}\n",
    "def domains(row):\n",
    "    pidtod[row['id']] = row['domain']\n",
    "        \n",
    "x = df.apply(domains, axis = 1)"
   ]
  },
  {
   "cell_type": "code",
   "execution_count": 17,
   "metadata": {},
   "outputs": [],
   "source": [
    "pidtoyear = {}\n",
    "def getyear(row):\n",
    "    pidtoyear[row['id']] = row['year']\n",
    "        \n",
    "x = df.apply(getyear, axis = 1)"
   ]
  },
  {
   "cell_type": "code",
   "execution_count": 19,
   "metadata": {},
   "outputs": [],
   "source": [
    "paperid = df['id'].values.tolist()\n",
    "papernames = df['title'].values.tolist()\n",
    "paperref = df['references'].values.tolist()\n",
    "paperidmap = {}\n",
    "paperidtoname = {}\n",
    "paperindextoid = {}\n",
    "g=nx.DiGraph()\n",
    "for index, i in enumerate(paperid):\n",
    "    paperidmap[i] = index\n",
    "    paperindextoid[index] = i\n",
    "    paperidtoname[i] = papernames[index]\n",
    "    \n",
    "ptop = {}\n",
    "for i in range(len(paperid)):\n",
    "    ptop[paperid[i]] = paperref[i]\n",
    "\n",
    "\n",
    "for key in ptop.keys():\n",
    "    t = set()\n",
    "    if type(ptop[key]) == list:\n",
    "        for i in ptop[key]:\n",
    "            if i in paperidmap and pidtod[i] == pidtod[key]:\n",
    "                g.add_edge(paperidmap[key],paperidmap[i])"
   ]
  },
  {
   "cell_type": "code",
   "execution_count": 20,
   "metadata": {},
   "outputs": [
    {
     "data": {
      "text/plain": [
       "2548532"
      ]
     },
     "execution_count": 20,
     "metadata": {},
     "output_type": "execute_result"
    }
   ],
   "source": [
    "len(ptop)"
   ]
  },
  {
   "cell_type": "code",
   "execution_count": 24,
   "metadata": {},
   "outputs": [],
   "source": [
    "# paperid1 = tdf['id'].values.tolist()\n",
    "# papernames1 = tdf['title'].values.tolist()\n",
    "# paperref1 = tdf['references'].values.tolist()\n",
    "# paperidmap1 = {}\n",
    "# paperidtoname1 = {}\n",
    "# paperindextoid1 = {}\n",
    "g1=nx.DiGraph()\n",
    "# for index, i in enumerate(paperid1):\n",
    "#     paperidmap1[i] = index\n",
    "#     paperindextoid1[index] = i\n",
    "#     paperidtoname1[i] = papernames1[index]\n",
    "    \n",
    "# ptop1 = {}\n",
    "# for i in range(len(paperid1)):\n",
    "#     ptop[paperid1[i]] = paperref1[i]\n",
    "\n",
    "\n",
    "for key in ptop.keys():\n",
    "    t = set()\n",
    "    if type(ptop[key]) == list:\n",
    "        for i in ptop[key]:\n",
    "            if i in paperidmap:\n",
    "                g1.add_edge(paperidmap[key],paperidmap[i])"
   ]
  },
  {
   "cell_type": "code",
   "execution_count": 25,
   "metadata": {},
   "outputs": [],
   "source": [
    "pr = nx.pagerank(g, alpha=0.85)"
   ]
  },
  {
   "cell_type": "code",
   "execution_count": 26,
   "metadata": {},
   "outputs": [],
   "source": [
    "pr1 = nx.pagerank(g1, alpha=0.85)"
   ]
  },
  {
   "cell_type": "code",
   "execution_count": 27,
   "metadata": {
    "scrolled": false
   },
   "outputs": [],
   "source": [
    "answer = sorted(pr.items(), key=lambda kv: kv[1], reverse = True)"
   ]
  },
  {
   "cell_type": "code",
   "execution_count": 28,
   "metadata": {},
   "outputs": [],
   "source": [
    "answer1 = sorted(pr1.items(), key=lambda kv: kv[1], reverse = True)"
   ]
  },
  {
   "cell_type": "code",
   "execution_count": 211,
   "metadata": {},
   "outputs": [],
   "source": [
    "improv_pr = pd.DataFrame(answer1).rename(columns = {0:'index',1:'score'})"
   ]
  },
  {
   "cell_type": "code",
   "execution_count": 212,
   "metadata": {},
   "outputs": [
    {
     "data": {
      "text/html": [
       "<div>\n",
       "<style scoped>\n",
       "    .dataframe tbody tr th:only-of-type {\n",
       "        vertical-align: middle;\n",
       "    }\n",
       "\n",
       "    .dataframe tbody tr th {\n",
       "        vertical-align: top;\n",
       "    }\n",
       "\n",
       "    .dataframe thead th {\n",
       "        text-align: right;\n",
       "    }\n",
       "</style>\n",
       "<table border=\"1\" class=\"dataframe\">\n",
       "  <thead>\n",
       "    <tr style=\"text-align: right;\">\n",
       "      <th></th>\n",
       "      <th>index</th>\n",
       "      <th>score</th>\n",
       "    </tr>\n",
       "  </thead>\n",
       "  <tbody>\n",
       "    <tr>\n",
       "      <th>0</th>\n",
       "      <td>349209</td>\n",
       "      <td>8.014744e-04</td>\n",
       "    </tr>\n",
       "    <tr>\n",
       "      <th>1</th>\n",
       "      <td>2021108</td>\n",
       "      <td>4.139026e-04</td>\n",
       "    </tr>\n",
       "    <tr>\n",
       "      <th>2</th>\n",
       "      <td>1996630</td>\n",
       "      <td>4.038459e-04</td>\n",
       "    </tr>\n",
       "    <tr>\n",
       "      <th>3</th>\n",
       "      <td>2073988</td>\n",
       "      <td>2.780486e-04</td>\n",
       "    </tr>\n",
       "    <tr>\n",
       "      <th>4</th>\n",
       "      <td>2334546</td>\n",
       "      <td>2.652912e-04</td>\n",
       "    </tr>\n",
       "    <tr>\n",
       "      <th>5</th>\n",
       "      <td>1744678</td>\n",
       "      <td>2.567116e-04</td>\n",
       "    </tr>\n",
       "    <tr>\n",
       "      <th>6</th>\n",
       "      <td>1754789</td>\n",
       "      <td>2.554936e-04</td>\n",
       "    </tr>\n",
       "    <tr>\n",
       "      <th>7</th>\n",
       "      <td>1569802</td>\n",
       "      <td>2.473109e-04</td>\n",
       "    </tr>\n",
       "    <tr>\n",
       "      <th>8</th>\n",
       "      <td>1541012</td>\n",
       "      <td>2.365198e-04</td>\n",
       "    </tr>\n",
       "    <tr>\n",
       "      <th>9</th>\n",
       "      <td>1821217</td>\n",
       "      <td>2.325486e-04</td>\n",
       "    </tr>\n",
       "    <tr>\n",
       "      <th>10</th>\n",
       "      <td>1693807</td>\n",
       "      <td>2.246840e-04</td>\n",
       "    </tr>\n",
       "    <tr>\n",
       "      <th>11</th>\n",
       "      <td>354312</td>\n",
       "      <td>2.170502e-04</td>\n",
       "    </tr>\n",
       "    <tr>\n",
       "      <th>12</th>\n",
       "      <td>281175</td>\n",
       "      <td>2.149675e-04</td>\n",
       "    </tr>\n",
       "    <tr>\n",
       "      <th>13</th>\n",
       "      <td>1335590</td>\n",
       "      <td>2.145802e-04</td>\n",
       "    </tr>\n",
       "    <tr>\n",
       "      <th>14</th>\n",
       "      <td>2331718</td>\n",
       "      <td>2.132613e-04</td>\n",
       "    </tr>\n",
       "    <tr>\n",
       "      <th>15</th>\n",
       "      <td>1910539</td>\n",
       "      <td>2.120915e-04</td>\n",
       "    </tr>\n",
       "    <tr>\n",
       "      <th>16</th>\n",
       "      <td>711061</td>\n",
       "      <td>2.108867e-04</td>\n",
       "    </tr>\n",
       "    <tr>\n",
       "      <th>17</th>\n",
       "      <td>1797418</td>\n",
       "      <td>2.073267e-04</td>\n",
       "    </tr>\n",
       "    <tr>\n",
       "      <th>18</th>\n",
       "      <td>2145917</td>\n",
       "      <td>2.057323e-04</td>\n",
       "    </tr>\n",
       "    <tr>\n",
       "      <th>19</th>\n",
       "      <td>1983121</td>\n",
       "      <td>2.009451e-04</td>\n",
       "    </tr>\n",
       "    <tr>\n",
       "      <th>20</th>\n",
       "      <td>1380237</td>\n",
       "      <td>1.959190e-04</td>\n",
       "    </tr>\n",
       "    <tr>\n",
       "      <th>21</th>\n",
       "      <td>1881803</td>\n",
       "      <td>1.956061e-04</td>\n",
       "    </tr>\n",
       "    <tr>\n",
       "      <th>22</th>\n",
       "      <td>1278676</td>\n",
       "      <td>1.925730e-04</td>\n",
       "    </tr>\n",
       "    <tr>\n",
       "      <th>23</th>\n",
       "      <td>385713</td>\n",
       "      <td>1.918883e-04</td>\n",
       "    </tr>\n",
       "    <tr>\n",
       "      <th>24</th>\n",
       "      <td>1831026</td>\n",
       "      <td>1.917589e-04</td>\n",
       "    </tr>\n",
       "    <tr>\n",
       "      <th>25</th>\n",
       "      <td>2311071</td>\n",
       "      <td>1.914985e-04</td>\n",
       "    </tr>\n",
       "    <tr>\n",
       "      <th>26</th>\n",
       "      <td>355715</td>\n",
       "      <td>1.858723e-04</td>\n",
       "    </tr>\n",
       "    <tr>\n",
       "      <th>27</th>\n",
       "      <td>242282</td>\n",
       "      <td>1.841487e-04</td>\n",
       "    </tr>\n",
       "    <tr>\n",
       "      <th>28</th>\n",
       "      <td>2054367</td>\n",
       "      <td>1.791493e-04</td>\n",
       "    </tr>\n",
       "    <tr>\n",
       "      <th>29</th>\n",
       "      <td>2046094</td>\n",
       "      <td>1.783816e-04</td>\n",
       "    </tr>\n",
       "    <tr>\n",
       "      <th>...</th>\n",
       "      <td>...</td>\n",
       "      <td>...</td>\n",
       "    </tr>\n",
       "    <tr>\n",
       "      <th>2360931</th>\n",
       "      <td>2548451</td>\n",
       "      <td>8.636837e-08</td>\n",
       "    </tr>\n",
       "    <tr>\n",
       "      <th>2360932</th>\n",
       "      <td>2548453</td>\n",
       "      <td>8.636837e-08</td>\n",
       "    </tr>\n",
       "    <tr>\n",
       "      <th>2360933</th>\n",
       "      <td>2548454</td>\n",
       "      <td>8.636837e-08</td>\n",
       "    </tr>\n",
       "    <tr>\n",
       "      <th>2360934</th>\n",
       "      <td>2548457</td>\n",
       "      <td>8.636837e-08</td>\n",
       "    </tr>\n",
       "    <tr>\n",
       "      <th>2360935</th>\n",
       "      <td>2548459</td>\n",
       "      <td>8.636837e-08</td>\n",
       "    </tr>\n",
       "    <tr>\n",
       "      <th>2360936</th>\n",
       "      <td>2548461</td>\n",
       "      <td>8.636837e-08</td>\n",
       "    </tr>\n",
       "    <tr>\n",
       "      <th>2360937</th>\n",
       "      <td>2548462</td>\n",
       "      <td>8.636837e-08</td>\n",
       "    </tr>\n",
       "    <tr>\n",
       "      <th>2360938</th>\n",
       "      <td>2548466</td>\n",
       "      <td>8.636837e-08</td>\n",
       "    </tr>\n",
       "    <tr>\n",
       "      <th>2360939</th>\n",
       "      <td>2548469</td>\n",
       "      <td>8.636837e-08</td>\n",
       "    </tr>\n",
       "    <tr>\n",
       "      <th>2360940</th>\n",
       "      <td>2548471</td>\n",
       "      <td>8.636837e-08</td>\n",
       "    </tr>\n",
       "    <tr>\n",
       "      <th>2360941</th>\n",
       "      <td>2548473</td>\n",
       "      <td>8.636837e-08</td>\n",
       "    </tr>\n",
       "    <tr>\n",
       "      <th>2360942</th>\n",
       "      <td>2548474</td>\n",
       "      <td>8.636837e-08</td>\n",
       "    </tr>\n",
       "    <tr>\n",
       "      <th>2360943</th>\n",
       "      <td>2548475</td>\n",
       "      <td>8.636837e-08</td>\n",
       "    </tr>\n",
       "    <tr>\n",
       "      <th>2360944</th>\n",
       "      <td>2548479</td>\n",
       "      <td>8.636837e-08</td>\n",
       "    </tr>\n",
       "    <tr>\n",
       "      <th>2360945</th>\n",
       "      <td>2548482</td>\n",
       "      <td>8.636837e-08</td>\n",
       "    </tr>\n",
       "    <tr>\n",
       "      <th>2360946</th>\n",
       "      <td>2548484</td>\n",
       "      <td>8.636837e-08</td>\n",
       "    </tr>\n",
       "    <tr>\n",
       "      <th>2360947</th>\n",
       "      <td>2548487</td>\n",
       "      <td>8.636837e-08</td>\n",
       "    </tr>\n",
       "    <tr>\n",
       "      <th>2360948</th>\n",
       "      <td>2548500</td>\n",
       "      <td>8.636837e-08</td>\n",
       "    </tr>\n",
       "    <tr>\n",
       "      <th>2360949</th>\n",
       "      <td>2548502</td>\n",
       "      <td>8.636837e-08</td>\n",
       "    </tr>\n",
       "    <tr>\n",
       "      <th>2360950</th>\n",
       "      <td>2548503</td>\n",
       "      <td>8.636837e-08</td>\n",
       "    </tr>\n",
       "    <tr>\n",
       "      <th>2360951</th>\n",
       "      <td>2548504</td>\n",
       "      <td>8.636837e-08</td>\n",
       "    </tr>\n",
       "    <tr>\n",
       "      <th>2360952</th>\n",
       "      <td>2548506</td>\n",
       "      <td>8.636837e-08</td>\n",
       "    </tr>\n",
       "    <tr>\n",
       "      <th>2360953</th>\n",
       "      <td>2548508</td>\n",
       "      <td>8.636837e-08</td>\n",
       "    </tr>\n",
       "    <tr>\n",
       "      <th>2360954</th>\n",
       "      <td>2548514</td>\n",
       "      <td>8.636837e-08</td>\n",
       "    </tr>\n",
       "    <tr>\n",
       "      <th>2360955</th>\n",
       "      <td>2548518</td>\n",
       "      <td>8.636837e-08</td>\n",
       "    </tr>\n",
       "    <tr>\n",
       "      <th>2360956</th>\n",
       "      <td>2548520</td>\n",
       "      <td>8.636837e-08</td>\n",
       "    </tr>\n",
       "    <tr>\n",
       "      <th>2360957</th>\n",
       "      <td>2548521</td>\n",
       "      <td>8.636837e-08</td>\n",
       "    </tr>\n",
       "    <tr>\n",
       "      <th>2360958</th>\n",
       "      <td>2548522</td>\n",
       "      <td>8.636837e-08</td>\n",
       "    </tr>\n",
       "    <tr>\n",
       "      <th>2360959</th>\n",
       "      <td>2548525</td>\n",
       "      <td>8.636837e-08</td>\n",
       "    </tr>\n",
       "    <tr>\n",
       "      <th>2360960</th>\n",
       "      <td>2548529</td>\n",
       "      <td>8.636837e-08</td>\n",
       "    </tr>\n",
       "  </tbody>\n",
       "</table>\n",
       "<p>2360961 rows × 2 columns</p>\n",
       "</div>"
      ],
      "text/plain": [
       "           index         score\n",
       "0         349209  8.014744e-04\n",
       "1        2021108  4.139026e-04\n",
       "2        1996630  4.038459e-04\n",
       "3        2073988  2.780486e-04\n",
       "4        2334546  2.652912e-04\n",
       "5        1744678  2.567116e-04\n",
       "6        1754789  2.554936e-04\n",
       "7        1569802  2.473109e-04\n",
       "8        1541012  2.365198e-04\n",
       "9        1821217  2.325486e-04\n",
       "10       1693807  2.246840e-04\n",
       "11        354312  2.170502e-04\n",
       "12        281175  2.149675e-04\n",
       "13       1335590  2.145802e-04\n",
       "14       2331718  2.132613e-04\n",
       "15       1910539  2.120915e-04\n",
       "16        711061  2.108867e-04\n",
       "17       1797418  2.073267e-04\n",
       "18       2145917  2.057323e-04\n",
       "19       1983121  2.009451e-04\n",
       "20       1380237  1.959190e-04\n",
       "21       1881803  1.956061e-04\n",
       "22       1278676  1.925730e-04\n",
       "23        385713  1.918883e-04\n",
       "24       1831026  1.917589e-04\n",
       "25       2311071  1.914985e-04\n",
       "26        355715  1.858723e-04\n",
       "27        242282  1.841487e-04\n",
       "28       2054367  1.791493e-04\n",
       "29       2046094  1.783816e-04\n",
       "...          ...           ...\n",
       "2360931  2548451  8.636837e-08\n",
       "2360932  2548453  8.636837e-08\n",
       "2360933  2548454  8.636837e-08\n",
       "2360934  2548457  8.636837e-08\n",
       "2360935  2548459  8.636837e-08\n",
       "2360936  2548461  8.636837e-08\n",
       "2360937  2548462  8.636837e-08\n",
       "2360938  2548466  8.636837e-08\n",
       "2360939  2548469  8.636837e-08\n",
       "2360940  2548471  8.636837e-08\n",
       "2360941  2548473  8.636837e-08\n",
       "2360942  2548474  8.636837e-08\n",
       "2360943  2548475  8.636837e-08\n",
       "2360944  2548479  8.636837e-08\n",
       "2360945  2548482  8.636837e-08\n",
       "2360946  2548484  8.636837e-08\n",
       "2360947  2548487  8.636837e-08\n",
       "2360948  2548500  8.636837e-08\n",
       "2360949  2548502  8.636837e-08\n",
       "2360950  2548503  8.636837e-08\n",
       "2360951  2548504  8.636837e-08\n",
       "2360952  2548506  8.636837e-08\n",
       "2360953  2548508  8.636837e-08\n",
       "2360954  2548514  8.636837e-08\n",
       "2360955  2548518  8.636837e-08\n",
       "2360956  2548520  8.636837e-08\n",
       "2360957  2548521  8.636837e-08\n",
       "2360958  2548522  8.636837e-08\n",
       "2360959  2548525  8.636837e-08\n",
       "2360960  2548529  8.636837e-08\n",
       "\n",
       "[2360961 rows x 2 columns]"
      ]
     },
     "execution_count": 212,
     "metadata": {},
     "output_type": "execute_result"
    }
   ],
   "source": [
    "improv_pr['index'] = paperindextoid[]"
   ]
  },
  {
   "cell_type": "code",
   "execution_count": 214,
   "metadata": {},
   "outputs": [
    {
     "name": "stdout",
     "output_type": "stream",
     "text": [
      "Genetic Algorithms in Search, Optimization and Machine Learning\n",
      "LIBSVM: A library for support vector machines\n",
      "Distinctive Image Features from Scale-Invariant Keypoints\n",
      "Probabilistic Reasoning in Intelligent Systems: Networks of Plausible Inference\n",
      "Random Forests\n",
      "C4.5: Programs for Machine Learning\n",
      "A theory for multiresolution signal decomposition: the wavelet representation\n",
      "A fast and elitist multiobjective genetic algorithm: NSGA-II\n",
      "Fuzzy identification of systems and its applications to modeling and control\n",
      "Compressed sensing\n",
      "Snakes: Active Contour Models\n",
      "A Tutorial on Support Vector Machines for Pattern Recognition\n",
      "Capacity of multi-antenna Gaussian channels\n",
      "The Design and Analysis of Computer Algorithms\n",
      "The WEKA data mining software: an update\n",
      "Induction of Decision Trees\n",
      "Genetic algorithms + data structures=evolution programs\n",
      "A method for obtaining digital signatures and public-key cryptosystems\n",
      "The Concept of a Linguistic Variable and its Application to Approximate Reasoning-I\n",
      "Histograms of oriented gradients for human detection\n"
     ]
    }
   ],
   "source": [
    "for elem in answer[:20]:\n",
    "    print(paperidtoname[paperindextoid[elem[0]]])"
   ]
  },
  {
   "cell_type": "code",
   "execution_count": 30,
   "metadata": {},
   "outputs": [],
   "source": [
    "top100papers = answer[:100]\n"
   ]
  },
  {
   "cell_type": "code",
   "execution_count": 31,
   "metadata": {},
   "outputs": [],
   "source": [
    "pidtocitationyears = {}\n",
    "for p in paperid:\n",
    "    year = pidtoyear[p]\n",
    "    if type(ptop[p]) == list: \n",
    "        for rp in ptop[p]:\n",
    "            if rp in paperidmap:\n",
    "                rid = paperidmap[rp]\n",
    "                if rid not in pidtocitationyears:\n",
    "                    pidtocitationyears[rid] = {}\n",
    "\n",
    "                if year not in pidtocitationyears[rid]:\n",
    "                    pidtocitationyears[rid][year] = 1\n",
    "                else:\n",
    "                    pidtocitationyears[rid][year] += 1\n"
   ]
  },
  {
   "cell_type": "code",
   "execution_count": 32,
   "metadata": {},
   "outputs": [
    {
     "name": "stdout",
     "output_type": "stream",
     "text": [
      "349209 {2017: 116, 2013: 621, 2012: 649, 2011: 804, 2008: 834, 2001: 409, 2004: 581, 2005: 711, 2000: 358, 2010: 825, 2006: 745, 1998: 344, 1999: 296, 2002: 441, 1991: 22, 1992: 33, 2014: 533, 2009: 898, 1990: 18, 1996: 154, 2003: 517, 1997: 212, 2007: 873, 1994: 107, 2015: 428, 1993: 54, 2016: 326, 1995: 121, 1989: 5, 1988: 2}\n",
      "2021108 {2014: 1468, 2011: 1016, 2010: 860, 2013: 1428, 2012: 1244, 2003: 42, 2005: 199, 2007: 472, 2009: 689, 2008: 512, 2006: 296, 2004: 87, 2015: 1734, 2016: 1600, 2017: 510, 2002: 15, 2001: 3, 2000: 2}\n",
      "1996630 {2012: 1590, 2010: 1429, 2014: 1512, 2011: 1496, 2007: 598, 2013: 1691, 2016: 1576, 2006: 406, 2009: 1153, 2015: 1721, 2008: 871, 2005: 176, 2017: 504, 2004: 30, 2003: 3}\n",
      "2073988 {2013: 315, 2012: 312, 2002: 232, 2006: 314, 1991: 58, 1995: 99, 2011: 374, 2010: 408, 2005: 307, 2000: 171, 1999: 137, 1997: 129, 1998: 121, 1989: 18, 2014: 265, 2003: 209, 2004: 245, 1990: 54, 2008: 377, 2001: 183, 2007: 397, 1993: 83, 2009: 399, 1994: 90, 1996: 116, 2016: 193, 2015: 273, 1992: 54, 2017: 56, 1988: 3}\n",
      "2334546 {2014: 925, 2012: 646, 2011: 481, 2013: 770, 2010: 391, 2009: 297, 2004: 38, 2005: 60, 2016: 1297, 2008: 208, 2017: 445, 2015: 1253, 2006: 99, 2007: 150, 2002: 4, 2003: 13, 2001: 1}\n",
      "1744678 {2012: 417, 2007: 399, 1997: 89, 2011: 464, 2013: 378, 2003: 286, 2001: 207, 2006: 408, 1993: 2, 2010: 379, 1996: 56, 2014: 325, 2004: 303, 2009: 408, 2000: 166, 2008: 402, 2015: 277, 2005: 353, 1998: 126, 1999: 144, 2002: 215, 2016: 218, 1995: 19, 2017: 110, 1994: 9}\n",
      "1821217 {1998: 117, 2012: 187, 2013: 183, 2009: 239, 2004: 157, 2001: 121, 2003: 143, 2002: 115, 2005: 237, 2007: 231, 2011: 155, 2010: 219, 2014: 136, 2006: 219, 2000: 131, 1997: 103, 1994: 90, 2008: 198, 2015: 169, 2016: 149, 2017: 64, 1996: 106, 1999: 136, 1995: 90, 1993: 68, 1991: 16, 1992: 42, 1990: 7, 1984: 1, 1988: 1, 1989: 2}\n",
      "1754789 {2008: 289, 2012: 521, 2013: 657, 2011: 552, 2014: 573, 2005: 139, 2010: 487, 2009: 432, 2003: 40, 2006: 169, 2007: 306, 2002: 10, 2004: 59, 2016: 819, 2015: 717, 2017: 301, 2001: 7}\n",
      "1335590 {2011: 319, 2012: 287, 2001: 112, 1998: 65, 2009: 280, 2007: 250, 2013: 283, 2014: 210, 2006: 205, 2005: 174, 2003: 137, 2004: 150, 1996: 32, 2008: 230, 2002: 88, 2016: 264, 2015: 276, 2010: 281, 1999: 68, 1992: 6, 1995: 23, 1997: 47, 1993: 16, 1994: 17, 2000: 87, 2017: 80, 1988: 1, 1990: 2, 1991: 1}\n",
      "2311071 {2015: 890, 2011: 554, 2013: 790, 2010: 383, 2014: 752, 2017: 300, 2012: 723, 2007: 50, 2016: 784, 2008: 154, 2009: 271, 2006: 27, 2005: 5}\n",
      "1541012 {2008: 306, 2012: 270, 2006: 351, 1996: 127, 1995: 93, 2013: 329, 1994: 56, 1997: 124, 2007: 325, 2001: 202, 2003: 228, 2011: 319, 2004: 278, 2010: 332, 2014: 240, 1987: 3, 2016: 197, 2009: 320, 2000: 189, 2002: 196, 2005: 305, 1990: 16, 2015: 225, 1999: 155, 1998: 151, 1988: 8, 1992: 28, 1993: 44, 1991: 16, 1989: 12, 2017: 84}\n",
      "1881803 {2011: 363, 2003: 159, 2010: 397, 2012: 363, 2013: 290, 2014: 293, 2005: 243, 2008: 331, 2009: 359, 2007: 322, 2000: 41, 2006: 310, 2002: 110, 2001: 65, 2015: 310, 2016: 258, 2004: 201, 2017: 95, 1999: 19, 1998: 3}\n",
      "1797418 {2009: 435, 2011: 394, 2012: 380, 2014: 220, 2005: 243, 2016: 188, 2015: 240, 2007: 462, 2010: 388, 2002: 121, 2006: 381, 2013: 319, 2004: 246, 2003: 222, 2001: 61, 2000: 23, 2017: 78, 2008: 487, 1999: 11}\n",
      "354312 {1987: 99, 1985: 76, 1993: 109, 2000: 91, 2002: 80, 2007: 69, 2012: 53, 1977: 34, 2014: 47, 1986: 71, 1983: 73, 2015: 40, 1998: 97, 2011: 60, 1996: 86, 1979: 60, 1988: 93, 1984: 86, 2013: 44, 1997: 97, 1994: 105, 1976: 37, 1990: 102, 2010: 82, 1980: 63, 2006: 73, 1992: 108, 1981: 70, 2003: 83, 2008: 75, 1995: 77, 2017: 11, 1989: 100, 2001: 86, 1978: 48, 1982: 45, 2009: 81, 2005: 98, 1999: 97, 2004: 87, 2016: 37, 1991: 106, 1975: 10, 1973: 1, 1974: 2}\n",
      "1831026 {2012: 661, 2013: 856, 2011: 500, 2014: 895, 2009: 4, 2010: 191, 2015: 978, 2016: 800, 2017: 249}\n",
      "1983121 {2014: 214, 2012: 259, 2006: 192, 1994: 97, 2016: 140, 2008: 194, 1993: 91, 2011: 238, 2009: 220, 1991: 56, 2004: 145, 2013: 241, 2010: 222, 1989: 38, 2003: 154, 2001: 139, 2007: 210, 1999: 135, 1986: 5, 2005: 176, 1997: 113, 1992: 50, 1995: 82, 2000: 124, 1996: 82, 1987: 7, 1998: 114, 2002: 117, 1990: 49, 2015: 193, 2017: 65, 1988: 17}\n",
      "1910539 {2003: 189, 2013: 146, 2012: 157, 2000: 139, 2001: 144, 2004: 200, 2002: 130, 2006: 261, 2011: 209, 2007: 289, 2014: 123, 2010: 231, 2005: 258, 1999: 87, 2008: 234, 2015: 114, 1994: 20, 2016: 66, 1996: 30, 2017: 24, 1997: 37, 2009: 241, 1993: 4, 1998: 98, 1995: 11}\n",
      "711061 {2003: 145, 2012: 194, 2005: 246, 2011: 222, 2013: 189, 2008: 229, 2009: 244, 2007: 231, 1992: 35, 1996: 52, 1990: 35, 2002: 119, 1998: 92, 2004: 207, 1985: 29, 2006: 229, 2014: 166, 1995: 50, 1999: 120, 2010: 209, 1988: 27, 2000: 115, 2001: 123, 1997: 75, 2015: 167, 2016: 116, 1991: 32, 1994: 38, 1987: 29, 1993: 45, 1986: 8, 1989: 23, 1983: 12, 1981: 5, 1978: 5, 1982: 11, 1984: 14, 1979: 5, 1980: 3, 2017: 40}\n",
      "2054367 {2011: 243, 2004: 80, 2012: 239, 2013: 243, 2002: 69, 2014: 252, 2007: 195, 2009: 273, 2005: 96, 2010: 235, 2003: 84, 2008: 198, 1999: 52, 2000: 45, 2006: 133, 1989: 7, 2001: 72, 2016: 263, 2015: 293, 1979: 5, 2017: 100, 1997: 34, 1996: 27, 1998: 39, 1995: 28, 1994: 15, 1992: 14, 1988: 11, 1990: 10, 1982: 5, 1991: 10, 1980: 5, 1981: 2, 1983: 4, 1987: 5, 1986: 4, 1993: 14, 1984: 3, 1978: 2, 1985: 7, 1977: 2, 1976: 3}\n",
      "2101972 {2011: 639, 2012: 795, 2014: 1065, 2013: 1045, 2010: 464, 2015: 1316, 2008: 177, 2009: 286, 2007: 89, 2016: 1234, 2017: 375, 2006: 29, 2005: 5}\n",
      "385713 {2002: 72, 2012: 492, 2010: 450, 2013: 544, 2011: 478, 2009: 409, 2014: 557, 2003: 145, 2007: 304, 2008: 299, 1995: 23, 2004: 140, 2006: 208, 1999: 29, 2017: 207, 2001: 43, 2005: 179, 1996: 23, 2015: 492, 2016: 453, 1992: 4, 2000: 48, 1997: 22, 1991: 5, 1993: 8, 1990: 1, 1994: 9, 1998: 15}\n",
      "2046094 {1997: 54, 2005: 230, 2014: 167, 2013: 178, 2008: 217, 2012: 168, 2009: 228, 2007: 226, 2006: 199, 2011: 201, 1996: 45, 1990: 23, 2004: 178, 1985: 24, 2002: 78, 2010: 176, 1995: 36, 1999: 85, 2000: 80, 2003: 140, 1993: 40, 1988: 23, 2001: 98, 2015: 163, 1998: 77, 2016: 140, 1987: 19, 1991: 34, 1994: 34, 1989: 28, 1992: 27, 1986: 9, 1983: 9, 1981: 7, 1978: 6, 1979: 5, 1982: 11, 1977: 3, 1980: 5, 1984: 9, 2017: 39}\n",
      "883659 {2012: 177, 2009: 229, 2007: 167, 2011: 212, 2013: 200, 2002: 58, 2003: 59, 2014: 163, 2004: 89, 2008: 179, 2010: 213, 1999: 35, 2006: 143, 1998: 24, 2005: 127, 2015: 190, 2016: 135, 2000: 44, 2001: 42, 1995: 7, 1997: 21, 1994: 1, 2017: 47, 1996: 13, 1993: 1, 1992: 1}\n",
      "2108167 {2013: 281, 2014: 225, 2012: 302, 2011: 306, 2006: 270, 2010: 315, 2009: 323, 2005: 202, 2003: 61, 2002: 30, 2015: 266, 2016: 268, 2004: 115, 2008: 349, 2007: 308, 2001: 7, 2017: 87}\n",
      "1958772 {2008: 279, 2004: 156, 2012: 302, 2011: 277, 1997: 16, 2001: 60, 2005: 205, 2007: 260, 2002: 91, 2009: 303, 2013: 306, 2003: 113, 2010: 270, 2014: 272, 2006: 226, 1994: 7, 1998: 33, 2000: 74, 2015: 270, 2016: 285, 2017: 72, 1999: 43, 1996: 12, 1991: 3, 1992: 5, 1995: 10, 1993: 3, 1989: 2, 1990: 1}\n",
      "1240465 {2014: 335, 2013: 368, 2007: 354, 2006: 267, 2012: 410, 2001: 90, 2005: 290, 2010: 384, 2011: 340, 2004: 205, 2009: 368, 2008: 334, 2017: 74, 2003: 159, 2002: 139, 2016: 258, 2015: 341, 2000: 45, 1999: 27, 1998: 4}\n",
      "2127250 {2014: 398, 2012: 402, 2011: 427, 2008: 371, 2013: 465, 2015: 427, 2010: 399, 2004: 121, 2005: 179, 2009: 372, 2006: 248, 2016: 427, 2007: 296, 2003: 37, 2002: 11, 2017: 117, 2000: 1}\n",
      "1869953 {2011: 126, 2012: 133, 2007: 113, 2004: 73, 2009: 158, 2013: 121, 1997: 76, 1998: 72, 1999: 67, 2006: 121, 2008: 121, 2002: 71, 2003: 78, 2001: 63, 2010: 134, 2015: 121, 2014: 127, 2005: 99, 2016: 166, 1994: 55, 1995: 65, 1991: 30, 1996: 56, 2000: 67, 1992: 37, 1993: 47, 2017: 56, 1989: 3, 1990: 8}\n",
      "2164171 {2004: 127, 2012: 423, 2013: 453, 2014: 373, 2008: 390, 2006: 297, 2007: 375, 2011: 428, 2009: 402, 2010: 410, 2005: 223, 2015: 412, 2016: 311, 2003: 42, 2017: 110, 2002: 5}\n",
      "1074048 {2013: 261, 2009: 147, 2002: 47, 1981: 5, 2015: 258, 2011: 184, 2012: 215, 2010: 189, 1998: 46, 2007: 122, 1995: 15, 2014: 256, 2006: 101, 1983: 7, 1992: 12, 1997: 28, 2004: 87, 1996: 25, 1979: 7, 2003: 63, 2016: 288, 2005: 93, 2017: 109, 2000: 38, 2008: 146, 1988: 8, 1999: 45, 2001: 24, 1994: 11, 1991: 8, 1990: 12, 1993: 10, 1982: 5, 1978: 5, 1985: 6, 1984: 7, 1987: 1, 1989: 9, 1986: 3, 1980: 4, 1975: 1, 1976: 2, 1977: 1}\n",
      "1278676 {2014: 432, 2012: 605, 2013: 576, 2011: 547, 2008: 278, 2016: 356, 2010: 450, 2015: 432, 2009: 396, 2017: 126, 2007: 141, 2006: 55, 2005: 5}\n",
      "1115404 {2005: 179, 2011: 270, 2006: 226, 2013: 354, 2010: 256, 2012: 295, 2001: 67, 2003: 142, 1999: 51, 2014: 296, 2007: 231, 2015: 317, 1994: 10, 2009: 247, 2008: 197, 2000: 51, 1997: 42, 2016: 326, 2002: 75, 2004: 138, 1992: 3, 1998: 53, 1995: 18, 1996: 24, 2017: 126, 1993: 2}\n",
      "1972661 {2007: 179, 2006: 99, 2009: 245, 2012: 306, 2014: 252, 2011: 308, 2010: 256, 2008: 191, 2013: 298, 2005: 68, 2016: 230, 2015: 256, 2004: 36, 2017: 85, 2003: 5}\n",
      "249837 {2008: 161, 2004: 163, 2011: 127, 2007: 163, 2014: 80, 2012: 104, 2003: 134, 1999: 52, 2002: 108, 2006: 172, 2013: 96, 2005: 137, 1996: 27, 1998: 63, 2009: 153, 2001: 91, 2000: 100, 2010: 147, 2015: 76, 2016: 64, 2017: 20, 1995: 11, 1997: 46, 1994: 8}\n",
      "1711619 {2011: 362, 2005: 255, 2014: 326, 2010: 343, 2009: 338, 2013: 367, 2012: 362, 2007: 313, 2000: 57, 2004: 176, 2003: 122, 2015: 295, 2017: 106, 2016: 320, 2006: 259, 2008: 324, 1999: 20, 1998: 20, 2002: 91, 2001: 46, 1996: 1, 1997: 1}\n",
      "314819 {2017: 163, 2011: 362, 2012: 377, 2010: 267, 2014: 390, 2013: 447, 2007: 108, 2009: 231, 2005: 58, 2015: 466, 2006: 86, 2004: 37, 2000: 5, 2003: 22, 2016: 480, 2008: 169, 2002: 5, 2001: 7, 1998: 1, 1999: 2}\n",
      "1903243 {2007: 199, 2013: 250, 2011: 238, 2000: 47, 2010: 230, 2008: 202, 2009: 229, 2004: 98, 2012: 240, 2015: 245, 2001: 48, 2014: 204, 1995: 24, 2006: 149, 1991: 16, 2002: 58, 1999: 37, 1992: 14, 1996: 19, 2003: 78, 2016: 255, 1997: 27, 1994: 24, 2005: 153, 1987: 13, 1998: 32, 1993: 15, 1989: 11, 1988: 7, 1986: 2, 1985: 4, 1990: 7, 2017: 64, 1984: 2, 1981: 1, 1983: 2, 1980: 1}\n",
      "1480197 {2008: 95, 2013: 53, 2014: 57, 1998: 132, 1992: 48, 2006: 111, 2001: 99, 1997: 96, 1988: 11, 1995: 95, 1991: 44, 2003: 93, 2011: 85, 1989: 22, 1994: 69, 1999: 101, 2012: 66, 1987: 6, 2005: 96, 2007: 111, 2000: 87, 2002: 91, 2009: 103, 1996: 72, 2015: 45, 2017: 14, 2004: 109, 2010: 90, 1990: 34, 1993: 47, 2016: 37}\n",
      "1693807 {2011: 485, 2012: 562, 2013: 583, 2009: 318, 2006: 256, 2008: 284, 2010: 356, 2003: 117, 2014: 684, 2004: 144, 2007: 266, 2005: 179, 2015: 772, 2001: 60, 2016: 576, 2017: 242, 2002: 92, 2000: 55, 1999: 33, 1997: 12, 1995: 2, 1998: 27, 1996: 3}\n",
      "281175 {1999: 79, 2005: 189, 2011: 286, 2012: 222, 2013: 201, 1992: 3, 2000: 87, 2008: 260, 2006: 183, 2014: 182, 2009: 285, 2010: 271, 2003: 131, 2007: 264, 2004: 157, 1998: 87, 1996: 17, 1995: 17, 2015: 189, 2002: 130, 2001: 92, 1994: 26, 2016: 139, 1997: 29, 1993: 3, 2017: 45}\n",
      "1827850 {2013: 647, 2016: 955, 2009: 213, 2012: 479, 2011: 444, 2014: 716, 2008: 172, 2010: 325, 2007: 93, 2015: 717, 2017: 357, 2006: 69, 2005: 40, 2004: 6}\n",
      "2097272 {2005: 137, 2014: 123, 2000: 111, 2012: 156, 2011: 166, 2006: 114, 1987: 19, 2013: 144, 2009: 132, 2010: 138, 1992: 30, 2003: 82, 2008: 125, 1998: 94, 1993: 35, 1999: 106, 2007: 125, 1996: 86, 1990: 27, 2004: 106, 1997: 77, 2002: 83, 2001: 82, 1994: 50, 1986: 7, 1995: 45, 1991: 44, 1988: 14, 1985: 7, 1982: 2, 2015: 120, 2016: 121, 2017: 43, 1989: 18, 1984: 2}\n",
      "1380237 {2011: 490, 2012: 543, 2009: 358, 2016: 544, 1981: 2, 2002: 79, 2014: 503, 2013: 591, 2010: 433, 2008: 291, 2005: 125, 2006: 211, 2003: 74, 1993: 10, 2007: 260, 1999: 42, 2015: 634, 2017: 177, 2000: 45, 1998: 40, 1996: 17, 2004: 133, 2001: 50, 1997: 21, 1994: 12, 1988: 10, 1991: 21, 1989: 13, 1995: 19, 1985: 2, 1990: 6, 1987: 12, 1984: 5, 1992: 14, 1986: 3, 1982: 2}\n",
      "1958474 {2012: 186, 2013: 308, 2014: 390, 2009: 13, 2011: 94, 2010: 51, 2016: 491, 2015: 489, 2017: 116, 2008: 4}\n",
      "1680406 {2011: 356, 2007: 624, 2012: 323, 2009: 527, 2004: 457, 2005: 570, 2008: 572, 2016: 108, 2013: 260, 2006: 516, 2014: 190, 2003: 281, 2010: 417, 2002: 140, 2015: 176, 2001: 18, 2017: 27}\n",
      "1864211 {2014: 425, 2013: 456, 2009: 301, 2011: 419, 2016: 413, 2012: 464, 2010: 371, 2008: 263, 2006: 128, 2007: 185, 2005: 56, 2017: 129, 2015: 470, 2004: 19, 2002: 4, 2003: 5, 2001: 1}\n",
      "1684724 {2008: 270, 2011: 323, 2012: 318, 2013: 285, 2001: 34, 2006: 174, 2010: 289, 2009: 274, 2003: 92, 2005: 134, 2014: 309, 2004: 117, 2007: 232, 1998: 41, 2015: 268, 2000: 43, 2017: 66, 2016: 307, 1999: 28, 1994: 12, 2002: 58, 1997: 22, 1995: 11, 1990: 2, 1996: 19, 1982: 1, 1987: 3, 1992: 7, 1984: 1, 1993: 4, 1989: 1, 1986: 2, 1991: 4, 1988: 1, 1985: 1, 2018: 1}\n",
      "1483165 {2014: 160, 2012: 200, 2003: 114, 2013: 175, 2010: 216, 2005: 156, 2008: 199, 2007: 186, 2011: 206, 2004: 113, 2006: 188, 2009: 225, 2001: 68, 2002: 91, 2000: 44, 1998: 16, 2016: 105, 2015: 150, 1995: 8, 1999: 23, 1990: 3, 1991: 5, 1997: 19, 1984: 1, 1996: 11, 1994: 6, 1985: 1, 1988: 4, 1993: 3, 1992: 4, 1986: 1, 2017: 42, 1989: 1, 1987: 1}\n",
      "575633 {2012: 227, 2006: 175, 2011: 214, 2009: 216, 2014: 180, 2002: 78, 2000: 39, 2003: 85, 2004: 126, 2010: 199, 2013: 214, 2007: 186, 2001: 75, 2008: 174, 2005: 134, 1997: 11, 1991: 5, 1994: 11, 1999: 34, 2015: 217, 2016: 162, 2017: 47, 1998: 31, 1995: 16, 1990: 4, 1993: 10, 1992: 10, 1996: 13, 1989: 2, 1988: 1}\n",
      "569100 {2011: 193, 2009: 182, 2012: 139, 2014: 128, 2003: 113, 2013: 155, 2007: 186, 2008: 193, 2001: 67, 2000: 77, 2002: 88, 2010: 165, 1999: 32, 2006: 172, 2004: 120, 2005: 160, 2016: 117, 2015: 147, 2017: 41, 1998: 50, 1997: 31, 1996: 10, 1994: 4, 1995: 7, 1993: 2}\n",
      "2180155 {2012: 280, 2004: 108, 2009: 249, 2011: 218, 2014: 236, 2007: 211, 2001: 19, 2013: 263, 2005: 153, 2006: 170, 2008: 210, 2003: 49, 2016: 211, 2015: 244, 2010: 218, 2002: 25, 2000: 4, 2017: 35}\n",
      "1775682 {2016: 372, 2012: 320, 2013: 374, 2014: 332, 2008: 160, 1999: 7, 2005: 84, 2010: 255, 2011: 305, 2007: 128, 2004: 60, 2002: 24, 2009: 204, 2015: 350, 2017: 107, 2003: 38, 2001: 21, 2006: 104, 2000: 10}\n",
      "1690664 {2013: 317, 2012: 331, 2015: 365, 2011: 307, 2016: 325, 2009: 223, 2005: 62, 2014: 295, 2010: 252, 2008: 192, 2007: 137, 2006: 114, 2004: 33, 2003: 3, 2017: 145}\n",
      "2024726 {2010: 212, 2014: 61, 2003: 199, 2008: 276, 2002: 101, 2006: 335, 2011: 156, 2001: 21, 2007: 361, 2012: 76, 2005: 418, 2004: 302, 2009: 258, 2013: 69, 2016: 30, 2015: 34, 2017: 12}\n",
      "1874699 {2007: 112, 2006: 77, 2011: 72, 2005: 87, 2009: 107, 2013: 61, 2012: 60, 2000: 62, 2008: 96, 1999: 41, 1993: 50, 2010: 72, 2015: 54, 2016: 43, 1997: 58, 2003: 72, 1996: 46, 2004: 48, 1991: 9, 1998: 53, 2001: 51, 2002: 57, 1994: 33, 1995: 50, 2014: 41, 2017: 20, 1992: 18, 1990: 2}\n",
      "2160653 {2011: 370, 2013: 397, 2012: 413, 2009: 226, 2014: 276, 2010: 268, 2015: 324, 2016: 276, 2017: 99, 2007: 71, 2006: 21, 2008: 137, 2005: 6, 2004: 2, 2002: 2}\n",
      "1975954 {2011: 382, 2009: 390, 2010: 396, 2012: 364, 2013: 305, 2015: 164, 2016: 135, 2014: 177, 2007: 271, 2005: 72, 2008: 345, 2004: 27, 2006: 147, 2017: 49, 2002: 3, 2003: 3}\n",
      "1738199 {2012: 376, 2013: 419, 2011: 342, 2009: 287, 2016: 457, 2014: 397, 2007: 152, 2010: 314, 2006: 132, 2015: 435, 2008: 194, 2017: 132, 2004: 82, 2003: 29, 2005: 106, 2002: 16, 1999: 1, 2000: 10, 2001: 8}\n",
      "778478 {1989: 41, 2011: 85, 1996: 96, 1994: 76, 1987: 30, 2004: 102, 2008: 105, 1999: 101, 1995: 77, 2012: 74, 1998: 107, 1992: 72, 2015: 66, 2007: 105, 1997: 118, 2003: 98, 2009: 104, 2014: 37, 2006: 107, 2013: 60, 2000: 101, 2002: 111, 2001: 108, 2005: 97, 2010: 82, 1993: 57, 1990: 48, 1988: 42, 1991: 43, 2016: 33, 1986: 5, 2017: 9}\n",
      "1867910 {2011: 383, 2012: 355, 2014: 241, 2009: 405, 2015: 210, 2010: 401, 2008: 374, 2013: 321, 2003: 82, 2016: 212, 2002: 44, 2005: 193, 2004: 159, 2006: 290, 2007: 368, 2001: 10, 2017: 59, 2000: 1}\n",
      "1496808 {2012: 227, 2003: 179, 2005: 294, 2014: 173, 2011: 256, 2013: 231, 2007: 351, 2010: 275, 2006: 360, 2004: 252, 2008: 335, 2009: 303, 2002: 114, 2016: 110, 2015: 172, 1999: 11, 2001: 70, 2017: 23, 2000: 33, 1998: 2}\n",
      "1955786 {2008: 129, 2013: 113, 2011: 100, 2010: 105, 2012: 99, 2007: 117, 2006: 98, 2005: 82, 2009: 105, 2014: 105, 2016: 132, 2015: 110, 2000: 35, 2003: 44, 2001: 39, 2002: 37, 1998: 17, 2004: 59, 1999: 24, 1996: 7, 1994: 5, 1997: 10, 1995: 2, 2017: 50}\n",
      "1562631 {2009: 352, 2012: 291, 2014: 253, 2013: 336, 2011: 320, 2005: 249, 2006: 282, 2008: 325, 2010: 291, 2003: 85, 2004: 157, 2007: 341, 2016: 203, 2015: 285, 2001: 22, 2002: 36, 2017: 78, 1999: 2, 2000: 4}\n",
      "1676506 {2011: 199, 2012: 194, 2003: 81, 2007: 217, 2004: 120, 2013: 155, 2010: 172, 2009: 214, 2008: 187, 2006: 173, 2002: 19, 2014: 158, 2005: 130, 2015: 157, 2016: 141, 2001: 7, 2000: 2, 2017: 44}\n",
      "2155159 {2004: 180, 2012: 75, 2001: 96, 2006: 180, 2008: 130, 2005: 173, 2011: 83, 2013: 47, 2014: 51, 2010: 134, 2002: 133, 2007: 184, 2009: 111, 2015: 39, 2003: 155, 2016: 25, 2000: 76, 1999: 52, 1998: 10, 2017: 3}\n",
      "1876024 {2013: 238, 2010: 242, 2011: 245, 2012: 255, 2003: 97, 2007: 225, 2014: 224, 2004: 141, 2006: 191, 2009: 245, 2008: 226, 2005: 200, 2016: 187, 2015: 201, 2017: 50, 2002: 77, 2001: 40, 2000: 24, 1999: 10, 1998: 1, 1997: 1}\n",
      "198864 {2011: 390, 2012: 404, 2013: 439, 2014: 483, 2010: 309, 2015: 524, 2017: 113, 2009: 193, 2007: 18, 2008: 69, 2016: 374}\n",
      "355715 {2010: 269, 2003: 182, 2005: 295, 2012: 163, 2000: 105, 2008: 264, 2006: 264, 2013: 183, 2011: 234, 2014: 127, 1999: 71, 2009: 260, 2004: 217, 2007: 264, 2002: 136, 2001: 136, 2016: 92, 2015: 107, 2017: 29, 1998: 47, 1997: 12, 1996: 1}\n",
      "1604638 {2010: 194, 2012: 175, 2011: 189, 2003: 171, 2015: 92, 2016: 68, 2002: 151, 2006: 259, 2001: 76, 2000: 23, 2004: 197, 2005: 209, 2008: 316, 2007: 277, 2014: 83, 2013: 130, 2009: 227, 2017: 24, 1999: 5}\n",
      "681100 {2013: 295, 2011: 308, 2007: 306, 2012: 313, 2001: 33, 2006: 222, 2009: 317, 2015: 260, 2008: 326, 2005: 189, 2010: 293, 2003: 98, 2014: 247, 2000: 2, 2002: 58, 2004: 137, 2016: 233, 2017: 82, 1999: 1}\n",
      "283828 {2011: 156, 2007: 126, 2012: 149, 2010: 127, 2004: 71, 2009: 119, 2013: 152, 2014: 129, 2015: 118, 2017: 41, 1998: 63, 2016: 119, 2006: 112, 1993: 36, 1991: 34, 2003: 63, 1999: 52, 1997: 42, 2008: 129, 1992: 43, 1994: 53, 2000: 60, 2001: 55, 2005: 87, 2002: 60, 1988: 26, 1996: 51, 1984: 6, 1990: 31, 1995: 52, 1987: 11, 1985: 5, 1983: 5, 1989: 29, 1981: 1, 1986: 11, 1982: 3, 2018: 1}\n",
      "2117776 {2014: 366, 2015: 1229, 2013: 130, 2016: 2085, 2017: 595, 2018: 1}\n",
      "2070722 {2011: 99, 2012: 101, 2004: 190, 2007: 184, 2013: 90, 2009: 122, 2008: 148, 2014: 60, 2003: 194, 2001: 156, 2000: 123, 2015: 59, 2016: 89, 2005: 199, 1996: 11, 1999: 68, 2002: 157, 2010: 130, 2006: 164, 1998: 25, 2017: 17, 1994: 3, 1997: 13, 1995: 3}\n",
      "1386211 {2011: 223, 2012: 216, 2013: 182, 2014: 193, 2008: 193, 2009: 234, 2007: 180, 2004: 69, 2006: 149, 2005: 157, 2003: 39, 2010: 207, 2015: 192, 2016: 148, 2002: 17, 2001: 5, 2017: 47}\n",
      "1822441 {2011: 154, 2014: 120, 2007: 167, 2006: 132, 1999: 37, 2005: 89, 2008: 146, 2013: 126, 2012: 141, 2010: 156, 2003: 56, 2009: 169, 2000: 26, 1998: 21, 2004: 85, 2015: 121, 2016: 74, 2001: 30, 2017: 21, 2002: 51, 1995: 4, 1997: 14, 1994: 4, 1996: 6}\n",
      "653818 {2012: 250, 2011: 231, 2010: 250, 2014: 162, 2013: 234, 2005: 127, 2009: 254, 2001: 45, 2008: 220, 2000: 27, 2006: 162, 2002: 68, 2007: 193, 2016: 200, 2015: 175, 2003: 76, 1999: 15, 1998: 8, 2004: 91, 2017: 61, 1997: 1}\n",
      "1511991 {2012: 253, 2010: 235, 2013: 281, 2011: 228, 2006: 88, 2008: 168, 2009: 206, 2004: 48, 2003: 37, 2014: 226, 2007: 93, 2005: 62, 2015: 218, 2016: 264, 2002: 6, 2001: 1, 2000: 1, 2017: 71}\n",
      "1938910 {2014: 425, 2013: 499, 2015: 488, 2012: 451, 2010: 288, 2016: 461, 2011: 408, 2008: 111, 2017: 184, 2009: 202, 2006: 21, 2007: 39, 2005: 5}\n",
      "2145917 {2013: 283, 2012: 311, 2002: 162, 1998: 71, 2003: 208, 2004: 241, 2011: 360, 2014: 251, 1994: 8, 2005: 285, 2009: 401, 2008: 365, 2015: 254, 2007: 348, 1996: 25, 2010: 329, 1997: 32, 2001: 130, 2006: 311, 2000: 117, 2016: 201, 1999: 109, 2017: 58, 1993: 1, 1995: 10, 1992: 1}\n",
      "1557852 {2009: 313, 2013: 422, 2011: 492, 2012: 458, 2014: 298, 2010: 340, 2008: 238, 2016: 271, 2003: 7, 2006: 86, 2015: 294, 2017: 58, 2004: 10, 2007: 152, 2005: 31, 2000: 1, 2002: 2, 2001: 1}\n",
      "1737849 {2011: 89, 2004: 99, 2014: 55, 2012: 74, 2008: 94, 2003: 109, 2013: 75, 2000: 83, 2009: 100, 2005: 126, 2010: 84, 1997: 31, 2006: 105, 2015: 63, 2002: 94, 1998: 46, 2007: 114, 2016: 35, 2001: 75, 1999: 55, 1995: 4, 1996: 8, 2017: 21}\n",
      "1602932 {2014: 70, 1995: 28, 2009: 90, 2004: 46, 2011: 65, 1989: 7, 2013: 67, 2007: 87, 2006: 77, 1992: 25, 2008: 68, 2001: 44, 2010: 79, 2002: 49, 2012: 69, 2000: 35, 1997: 26, 2015: 90, 2016: 111, 1998: 31, 1999: 37, 2003: 43, 1996: 38, 2005: 72, 1991: 14, 1994: 36, 1993: 18, 1990: 8, 2017: 36}\n",
      "1890341 {2003: 66, 2011: 197, 2007: 174, 2012: 197, 2013: 187, 2008: 175, 2006: 177, 2005: 135, 2004: 104, 2009: 162, 2001: 27, 2010: 174, 2014: 166, 2015: 142, 2016: 144, 2002: 48, 2017: 41, 1999: 11, 2000: 24, 1998: 5, 1997: 1}\n",
      "1716188 {2013: 190, 2012: 189, 2009: 119, 2015: 223, 2014: 190, 2011: 156, 1998: 30, 2010: 143, 2007: 90, 2003: 54, 2005: 60, 2000: 37, 2004: 66, 2016: 201, 1999: 23, 2008: 93, 2006: 83, 1997: 23, 2001: 27, 2002: 34, 1996: 20, 1995: 11, 1994: 9, 1991: 9, 1990: 2, 1985: 2, 1987: 10, 1977: 5, 1988: 7, 1992: 6, 1971: 3, 1978: 6, 1975: 3, 1979: 6, 1993: 9, 1970: 2, 1980: 2, 1986: 2, 1974: 5, 1983: 1, 1981: 4, 2017: 74, 1984: 4, 1968: 3, 1973: 5, 1982: 1, 1972: 1, 1976: 3, 1969: 1}\n",
      "2156765 {2007: 123, 2011: 165, 2012: 164, 2013: 189, 2006: 114, 2010: 164, 2014: 138, 2008: 147, 2009: 145, 2015: 194, 2016: 196, 1999: 6, 2005: 80, 2001: 18, 2004: 61, 2000: 6, 2003: 40, 2002: 22, 2017: 73}\n",
      "1496385 {2001: 101, 2011: 85, 2014: 86, 2007: 145, 2012: 119, 1999: 104, 2006: 127, 2009: 120, 1997: 79, 2003: 111, 1998: 94, 2008: 94, 2000: 107, 2013: 89, 2010: 96, 2005: 122, 2004: 125, 1994: 42, 2015: 72, 2002: 118, 1996: 49, 1995: 46, 1988: 9, 1993: 37, 1989: 8, 1990: 11, 1991: 16, 2016: 49, 1992: 24, 1987: 1, 2017: 20}\n",
      "1891350 {2007: 192, 2012: 280, 2014: 199, 2008: 237, 2011: 265, 2013: 263, 2006: 172, 2010: 305, 2016: 201, 2015: 209, 2005: 99, 2004: 66, 2009: 267, 2003: 7, 2002: 2, 2017: 57}\n",
      "1032431 {2014: 172, 2013: 215, 2016: 163, 2009: 188, 1997: 28, 2012: 204, 2011: 198, 2006: 172, 2010: 196, 1996: 19, 2002: 83, 2001: 64, 2003: 97, 2004: 105, 2005: 116, 2007: 185, 2000: 51, 2015: 179, 1998: 30, 2008: 172, 1999: 32, 1995: 8, 1994: 1, 2017: 58}\n",
      "1526567 {2011: 211, 2012: 237, 2013: 218, 2008: 215, 2007: 139, 2009: 175, 2014: 199, 2010: 210, 2004: 52, 2003: 34, 2005: 114, 2002: 23, 2015: 180, 2016: 161, 2017: 46, 2006: 125, 2000: 20, 2001: 22, 1999: 2, 2018: 1}\n",
      "497991 {2012: 101, 2004: 99, 2011: 113, 2000: 71, 2001: 57, 2006: 117, 2007: 120, 1998: 50, 2003: 77, 2002: 80, 2009: 138, 1997: 36, 2014: 96, 1999: 41, 2008: 141, 2005: 114, 2016: 89, 2015: 107, 2017: 33, 2010: 98, 2013: 90, 1995: 26, 1991: 10, 1993: 20, 1994: 27, 1996: 28, 1992: 12, 1990: 3, 1989: 1}\n",
      "1757531 {2011: 123, 2005: 92, 2007: 112, 2013: 94, 2010: 111, 2012: 113, 2008: 101, 2009: 134, 2000: 32, 2006: 102, 2015: 75, 2003: 67, 2014: 99, 1999: 37, 1995: 7, 2004: 63, 2001: 42, 1997: 23, 2002: 48, 2016: 39, 1998: 16, 1993: 1, 1996: 2, 2017: 15}\n",
      "1520317 {2014: 159, 2012: 243, 2005: 200, 2011: 266, 2004: 117, 2006: 243, 2008: 276, 2007: 287, 2010: 298, 2013: 217, 2009: 297, 2016: 158, 2015: 182, 2003: 66, 2002: 24, 2001: 20, 2017: 35, 2000: 3}\n",
      "1586877 {1997: 30, 2005: 135, 2011: 139, 2008: 122, 2013: 124, 2000: 68, 2009: 131, 2007: 134, 2012: 125, 2014: 105, 1996: 32, 2002: 64, 1991: 11, 1999: 57, 2004: 88, 2006: 85, 2003: 85, 2010: 113, 1995: 17, 2015: 124, 2016: 111, 1998: 58, 2001: 70, 1985: 1, 1990: 8, 1992: 5, 1993: 16, 1994: 14, 1989: 5, 1988: 2, 1986: 2, 2017: 34}\n",
      "2171892 {2012: 185, 2004: 41, 2011: 200, 2008: 134, 2006: 100, 2007: 124, 2013: 157, 2005: 51, 2017: 74, 2014: 188, 2009: 168, 2015: 163, 2016: 166, 2010: 181, 2003: 10, 2002: 1}\n",
      "372349 {2011: 225, 2013: 245, 2012: 243, 2014: 301, 2010: 175, 2016: 249, 2007: 54, 2009: 153, 2015: 360, 2008: 97, 2006: 13, 2005: 1, 2017: 69}\n",
      "1548268 {2004: 38, 2013: 255, 2012: 233, 2010: 205, 2011: 218, 2014: 199, 2006: 143, 2007: 193, 2009: 205, 2008: 191, 2015: 201, 2016: 165, 2005: 98, 2003: 13, 2002: 5, 2017: 61}\n",
      "1150683 {2011: 103, 2003: 58, 1996: 34, 2013: 93, 1993: 24, 1998: 34, 2012: 85, 1989: 10, 2006: 90, 2010: 103, 2000: 46, 2014: 80, 2007: 102, 2015: 70, 2016: 80, 2017: 34, 2008: 96, 2002: 48, 2009: 109, 2005: 71, 1995: 36, 1999: 34, 1994: 29, 1992: 7, 2004: 81, 2001: 39, 1988: 5, 1990: 13, 1997: 30, 1991: 14, 1984: 2, 1979: 1, 1980: 1, 1982: 1, 1983: 1, 1985: 4, 1987: 3, 1986: 2}\n",
      "1759135 {2011: 125, 2014: 79, 2004: 92, 2013: 98, 2002: 39, 2006: 142, 2009: 134, 2012: 96, 2010: 108, 2008: 125, 2005: 112, 2000: 13, 2017: 28, 2015: 61, 2016: 41, 2001: 17, 2003: 49, 2007: 113, 1999: 1}\n",
      "1578047 {2012: 189, 2013: 207, 2009: 192, 2004: 88, 2010: 208, 2014: 157, 2008: 168, 2011: 169, 2002: 64, 2005: 114, 2000: 22, 2007: 153, 2015: 201, 2016: 145, 2001: 22, 2006: 137, 2003: 58, 1998: 12, 1995: 1, 1999: 9, 1997: 4, 2017: 62, 1996: 2}\n",
      "2198030 {2013: 348, 2014: 317, 2010: 240, 2011: 313, 2012: 330, 2006: 30, 2007: 75, 2009: 202, 2016: 265, 2008: 148, 2015: 344, 2017: 81, 2005: 4}\n"
     ]
    }
   ],
   "source": [
    "for p in top100papers:\n",
    "    print(p[0], pidtocitationyears[p[0]])"
   ]
  },
  {
   "cell_type": "code",
   "execution_count": 168,
   "metadata": {},
   "outputs": [],
   "source": [
    "countyearsofpapers = collections.defaultdict(int)\n",
    "for p in top100papers:\n",
    "    countyearsofpapers[p[0]] = len(pidtocitationyears[p[0]])"
   ]
  },
  {
   "cell_type": "code",
   "execution_count": 169,
   "metadata": {},
   "outputs": [],
   "source": [
    "countyearsofpapers = pd.DataFrame.from_dict(countyearsofpapers, orient = 'index').reset_index()"
   ]
  },
  {
   "cell_type": "code",
   "execution_count": 170,
   "metadata": {},
   "outputs": [],
   "source": [
    "countyearsofpapers = countyearsofpapers.rename(columns={'index': 'domain', 0: 'frequency'})\n",
    "countyearsofpapers = countyearsofpapers.sort_values(by=['frequency'], ascending = False)"
   ]
  },
  {
   "cell_type": "code",
   "execution_count": 171,
   "metadata": {},
   "outputs": [
    {
     "data": {
      "text/html": [
       "<div>\n",
       "<style scoped>\n",
       "    .dataframe tbody tr th:only-of-type {\n",
       "        vertical-align: middle;\n",
       "    }\n",
       "\n",
       "    .dataframe tbody tr th {\n",
       "        vertical-align: top;\n",
       "    }\n",
       "\n",
       "    .dataframe thead th {\n",
       "        text-align: right;\n",
       "    }\n",
       "</style>\n",
       "<table border=\"1\" class=\"dataframe\">\n",
       "  <thead>\n",
       "    <tr style=\"text-align: right;\">\n",
       "      <th></th>\n",
       "      <th>domain</th>\n",
       "      <th>frequency</th>\n",
       "    </tr>\n",
       "  </thead>\n",
       "  <tbody>\n",
       "    <tr>\n",
       "      <th>83</th>\n",
       "      <td>1716188</td>\n",
       "      <td>49</td>\n",
       "    </tr>\n",
       "    <tr>\n",
       "      <th>13</th>\n",
       "      <td>354312</td>\n",
       "      <td>45</td>\n",
       "    </tr>\n",
       "    <tr>\n",
       "      <th>29</th>\n",
       "      <td>1074048</td>\n",
       "      <td>43</td>\n",
       "    </tr>\n",
       "    <tr>\n",
       "      <th>18</th>\n",
       "      <td>2054367</td>\n",
       "      <td>42</td>\n",
       "    </tr>\n",
       "    <tr>\n",
       "      <th>21</th>\n",
       "      <td>2046094</td>\n",
       "      <td>41</td>\n",
       "    </tr>\n",
       "    <tr>\n",
       "      <th>17</th>\n",
       "      <td>711061</td>\n",
       "      <td>40</td>\n",
       "    </tr>\n",
       "    <tr>\n",
       "      <th>96</th>\n",
       "      <td>1150683</td>\n",
       "      <td>38</td>\n",
       "    </tr>\n",
       "    <tr>\n",
       "      <th>70</th>\n",
       "      <td>283828</td>\n",
       "      <td>38</td>\n",
       "    </tr>\n",
       "    <tr>\n",
       "      <th>36</th>\n",
       "      <td>1903243</td>\n",
       "      <td>37</td>\n",
       "    </tr>\n",
       "    <tr>\n",
       "      <th>42</th>\n",
       "      <td>1380237</td>\n",
       "      <td>36</td>\n",
       "    </tr>\n",
       "  </tbody>\n",
       "</table>\n",
       "</div>"
      ],
      "text/plain": [
       "     domain  frequency\n",
       "83  1716188         49\n",
       "13   354312         45\n",
       "29  1074048         43\n",
       "18  2054367         42\n",
       "21  2046094         41\n",
       "17   711061         40\n",
       "96  1150683         38\n",
       "70   283828         38\n",
       "36  1903243         37\n",
       "42  1380237         36"
      ]
     },
     "execution_count": 171,
     "metadata": {},
     "output_type": "execute_result"
    }
   ],
   "source": [
    "countyearsofpapers.head(10)"
   ]
  },
  {
   "cell_type": "code",
   "execution_count": 172,
   "metadata": {},
   "outputs": [
    {
     "data": {
      "text/plain": [
       "'artificial intelligence'"
      ]
     },
     "execution_count": 172,
     "metadata": {},
     "output_type": "execute_result"
    }
   ],
   "source": [
    "pidtod[paperindextoid[1716188]]"
   ]
  },
  {
   "cell_type": "code",
   "execution_count": 173,
   "metadata": {},
   "outputs": [
    {
     "data": {
      "text/plain": [
       "'Nearest neighbor pattern classification'"
      ]
     },
     "execution_count": 173,
     "metadata": {},
     "output_type": "execute_result"
    }
   ],
   "source": [
    "paperidtoname[paperindextoid[1716188]]"
   ]
  },
  {
   "cell_type": "code",
   "execution_count": 174,
   "metadata": {},
   "outputs": [],
   "source": [
    "yeartocitations = pd.DataFrame.from_dict(pidtocitationyears[1716188], orient='index',columns=['citations']).reset_index().rename(columns={'index': 'year'})"
   ]
  },
  {
   "cell_type": "code",
   "execution_count": 175,
   "metadata": {},
   "outputs": [],
   "source": [
    "yeartocitations = yeartocitations.sort_values(by=['year'], ascending = True)"
   ]
  },
  {
   "cell_type": "code",
   "execution_count": 177,
   "metadata": {},
   "outputs": [],
   "source": [
    "yeartocitations = yeartocitations.drop([41])"
   ]
  },
  {
   "cell_type": "code",
   "execution_count": 180,
   "metadata": {},
   "outputs": [
    {
     "data": {
      "image/png": "[encoded data removed]",
      "text/plain": [
       "<Figure size 576x576 with 1 Axes>"
      ]
     },
     "metadata": {},
     "output_type": "display_data"
    }
   ],
   "source": [
    "import matplotlib.pyplot as plt\n",
    "import seaborn as sns\n",
    "plt.figure(figsize=(8 ,8))\n",
    "ax = sns.barplot(x=yeartocitations['year'], y=yeartocitations['citations'], palette=[\"C1\"])\n",
    "plt.xticks(rotation = 90)\n",
    "plt.show()"
   ]
  },
  {
   "cell_type": "markdown",
   "metadata": {},
   "source": [
    "          Fig: Citations of the paper 'Nearest neighbor \n",
    "        pattern classification' (Artificial Intelligence)"
   ]
  },
  {
   "cell_type": "code",
   "execution_count": 187,
   "metadata": {},
   "outputs": [
    {
     "data": {
      "text/plain": [
       "'artificial intelligence'"
      ]
     },
     "execution_count": 187,
     "metadata": {},
     "output_type": "execute_result"
    }
   ],
   "source": [
    "pidtod[paperindextoid[1074048]]"
   ]
  },
  {
   "cell_type": "code",
   "execution_count": 188,
   "metadata": {},
   "outputs": [
    {
     "data": {
      "text/plain": [
       "'Textural Features for Image Classification'"
      ]
     },
     "execution_count": 188,
     "metadata": {},
     "output_type": "execute_result"
    }
   ],
   "source": [
    "paperidtoname[paperindextoid[1074048]]"
   ]
  },
  {
   "cell_type": "code",
   "execution_count": 189,
   "metadata": {},
   "outputs": [],
   "source": [
    "yeartocitations = pd.DataFrame.from_dict(pidtocitationyears[1074048], orient='index',columns=['citations']).reset_index().rename(columns={'index': 'year'})"
   ]
  },
  {
   "cell_type": "code",
   "execution_count": 190,
   "metadata": {},
   "outputs": [],
   "source": [
    "yeartocitations = yeartocitations.sort_values(by=['year'], ascending = True)"
   ]
  },
  {
   "cell_type": "code",
   "execution_count": 191,
   "metadata": {},
   "outputs": [
    {
     "data": {
      "image/png": "[encoded data removed]",
      "text/plain": [
       "<Figure size 576x576 with 1 Axes>"
      ]
     },
     "metadata": {},
     "output_type": "display_data"
    }
   ],
   "source": [
    "plt.figure(figsize=(8,8))\n",
    "ax = sns.barplot(x=yeartocitations['year'], y=yeartocitations['citations'], palette=[\"C1\"])\n",
    "plt.xticks(rotation = 90)\n",
    "plt.show()"
   ]
  },
  {
   "cell_type": "markdown",
   "metadata": {},
   "source": [
    "       Fig: Citations of the paper 'Textural Features for \n",
    "         Image Classification' (Artificial Intelligence)"
   ]
  },
  {
   "cell_type": "code",
   "execution_count": 192,
   "metadata": {},
   "outputs": [
    {
     "data": {
      "text/plain": [
       "'artificial intelligence'"
      ]
     },
     "execution_count": 192,
     "metadata": {},
     "output_type": "execute_result"
    }
   ],
   "source": [
    "pidtod[paperindextoid[2054367]]"
   ]
  },
  {
   "cell_type": "code",
   "execution_count": 193,
   "metadata": {},
   "outputs": [
    {
     "data": {
      "text/plain": [
       "'The Concept of a Linguistic Variable and its Application to Approximate Reasoning-I'"
      ]
     },
     "execution_count": 193,
     "metadata": {},
     "output_type": "execute_result"
    }
   ],
   "source": [
    "paperidtoname[paperindextoid[2054367]]"
   ]
  },
  {
   "cell_type": "code",
   "execution_count": 194,
   "metadata": {},
   "outputs": [
    {
     "data": {
      "image/png": "[encoded data removed]",
      "text/plain": [
       "<Figure size 576x576 with 1 Axes>"
      ]
     },
     "metadata": {},
     "output_type": "display_data"
    }
   ],
   "source": [
    "yeartocitations = pd.DataFrame.from_dict(pidtocitationyears[2054367], orient='index',columns=['citations']).reset_index().rename(columns={'index': 'year'})\n",
    "yeartocitations = yeartocitations.sort_values(by=['year'], ascending = True)\n",
    "plt.figure(figsize=(8,8))\n",
    "ax = sns.barplot(x=yeartocitations['year'], y=yeartocitations['citations'], palette=[\"C1\"])\n",
    "plt.xticks(rotation = 90)\n",
    "plt.show()"
   ]
  },
  {
   "cell_type": "markdown",
   "metadata": {},
   "source": [
    "          Fig: Citations of the paper 'The Concept of \n",
    "          a Linguistic Variable and its Application to \n",
    "       Approximate Reasoning-I' (Artificial Intelligence)"
   ]
  },
  {
   "cell_type": "code",
   "execution_count": 195,
   "metadata": {},
   "outputs": [
    {
     "data": {
      "text/plain": [
       "'communication and security'"
      ]
     },
     "execution_count": 195,
     "metadata": {},
     "output_type": "execute_result"
    }
   ],
   "source": [
    "pidtod[paperindextoid[2046094]]"
   ]
  },
  {
   "cell_type": "code",
   "execution_count": 196,
   "metadata": {},
   "outputs": [
    {
     "data": {
      "text/plain": [
       "'New Directions in Cryptography'"
      ]
     },
     "execution_count": 196,
     "metadata": {},
     "output_type": "execute_result"
    }
   ],
   "source": [
    "paperidtoname[paperindextoid[2046094]]"
   ]
  },
  {
   "cell_type": "code",
   "execution_count": 197,
   "metadata": {},
   "outputs": [
    {
     "data": {
      "image/png": "[encoded data removed]",
      "text/plain": [
       "<Figure size 576x576 with 1 Axes>"
      ]
     },
     "metadata": {},
     "output_type": "display_data"
    }
   ],
   "source": [
    "yeartocitations = pd.DataFrame.from_dict(pidtocitationyears[2046094], orient='index',columns=['citations']).reset_index().rename(columns={'index': 'year'})\n",
    "yeartocitations = yeartocitations.sort_values(by=['year'], ascending = True)\n",
    "plt.figure(figsize=(8,8))\n",
    "ax = sns.barplot(x=yeartocitations['year'], y=yeartocitations['citations'], palette=[\"C1\"])\n",
    "plt.xticks(rotation = 90)\n",
    "plt.show()"
   ]
  },
  {
   "cell_type": "markdown",
   "metadata": {},
   "source": [
    "    Fig: Citations of the paper 'New Directions in Cryptography' \n",
    "                (Communication and Security)"
   ]
  },
  {
   "cell_type": "code",
   "execution_count": 198,
   "metadata": {},
   "outputs": [
    {
     "data": {
      "text/plain": [
       "'communication and security'"
      ]
     },
     "execution_count": 198,
     "metadata": {},
     "output_type": "execute_result"
    }
   ],
   "source": [
    "pidtod[paperindextoid[711061]]"
   ]
  },
  {
   "cell_type": "code",
   "execution_count": 199,
   "metadata": {},
   "outputs": [
    {
     "data": {
      "text/plain": [
       "'A method for obtaining digital signatures and public-key cryptosystems'"
      ]
     },
     "execution_count": 199,
     "metadata": {},
     "output_type": "execute_result"
    }
   ],
   "source": [
    "paperidtoname[paperindextoid[711061]]"
   ]
  },
  {
   "cell_type": "code",
   "execution_count": 200,
   "metadata": {},
   "outputs": [
    {
     "data": {
      "image/png": "[encoded data removed]",
      "text/plain": [
       "<Figure size 576x576 with 1 Axes>"
      ]
     },
     "metadata": {},
     "output_type": "display_data"
    }
   ],
   "source": [
    "yeartocitations = pd.DataFrame.from_dict(pidtocitationyears[711061], orient='index',columns=['citations']).reset_index().rename(columns={'index': 'year'})\n",
    "yeartocitations = yeartocitations.sort_values(by=['year'], ascending = True)\n",
    "plt.figure(figsize=(8,8))\n",
    "ax = sns.barplot(x=yeartocitations['year'], y=yeartocitations['citations'], palette=[\"C1\"])\n",
    "plt.xticks(rotation = 90)\n",
    "plt.show()"
   ]
  },
  {
   "cell_type": "markdown",
   "metadata": {},
   "source": [
    "        Fig: Citations of the paper 'A method for obtaining digital\n",
    "    signatures and public-key cryptosystems' (Communication and Security)"
   ]
  },
  {
   "cell_type": "code",
   "execution_count": 201,
   "metadata": {},
   "outputs": [
    {
     "data": {
      "text/plain": [
       "'artificial intelligence'"
      ]
     },
     "execution_count": 201,
     "metadata": {},
     "output_type": "execute_result"
    }
   ],
   "source": [
    "pidtod[paperindextoid[1150683]]"
   ]
  },
  {
   "cell_type": "code",
   "execution_count": 202,
   "metadata": {},
   "outputs": [
    {
     "data": {
      "text/plain": [
       "'Paper: Modeling by shortest data description'"
      ]
     },
     "execution_count": 202,
     "metadata": {},
     "output_type": "execute_result"
    }
   ],
   "source": [
    "paperidtoname[paperindextoid[1150683]]"
   ]
  },
  {
   "cell_type": "code",
   "execution_count": 203,
   "metadata": {},
   "outputs": [
    {
     "data": {
      "image/png": "[encoded data removed]",
      "text/plain": [
       "<Figure size 576x576 with 1 Axes>"
      ]
     },
     "metadata": {},
     "output_type": "display_data"
    }
   ],
   "source": [
    "yeartocitations = pd.DataFrame.from_dict(pidtocitationyears[1150683], orient='index',columns=['citations']).reset_index().rename(columns={'index': 'year'})\n",
    "yeartocitations = yeartocitations.sort_values(by=['year'], ascending = True)\n",
    "plt.figure(figsize=(8,8))\n",
    "ax = sns.barplot(x=yeartocitations['year'], y=yeartocitations['citations'], palette=[\"C1\"])\n",
    "plt.xticks(rotation = 90)\n",
    "plt.show()"
   ]
  },
  {
   "cell_type": "code",
   "execution_count": 66,
   "metadata": {},
   "outputs": [
    {
     "data": {
      "text/plain": [
       "'artificial intelligence'"
      ]
     },
     "execution_count": 66,
     "metadata": {},
     "output_type": "execute_result"
    }
   ],
   "source": [
    "pidtod[paperindextoid[283828]]"
   ]
  },
  {
   "cell_type": "code",
   "execution_count": 67,
   "metadata": {},
   "outputs": [
    {
     "data": {
      "text/plain": [
       "'Determining optical flow'"
      ]
     },
     "execution_count": 67,
     "metadata": {},
     "output_type": "execute_result"
    }
   ],
   "source": [
    "paperidtoname[paperindextoid[283828]]"
   ]
  },
  {
   "cell_type": "code",
   "execution_count": 68,
   "metadata": {},
   "outputs": [
    {
     "data": {
      "image/png": "[encoded data removed]",
      "text/plain": [
       "<Figure size 648x648 with 1 Axes>"
      ]
     },
     "metadata": {},
     "output_type": "display_data"
    }
   ],
   "source": [
    "yeartocitations = pd.DataFrame.from_dict(pidtocitationyears[283828], orient='index',columns=['citations']).reset_index().rename(columns={'index': 'year'})\n",
    "yeartocitations = yeartocitations.sort_values(by=['year'], ascending = True)\n",
    "plt.figure(figsize=(9,9))\n",
    "ax = sns.barplot(x=yeartocitations['year'], y=yeartocitations['citations'], palette=[\"C1\"])\n",
    "plt.xticks(rotation = 90)\n",
    "plt.show()"
   ]
  },
  {
   "cell_type": "markdown",
   "metadata": {},
   "source": []
  },
  {
   "cell_type": "code",
   "execution_count": 75,
   "metadata": {},
   "outputs": [],
   "source": [
    "pagerank_improv = pd.DataFrame(answer).rename({0:'index',1:'score'}, axis = 1)\n",
    "pagerank = pd.DataFrame(answer1).rename({0:'index',1:'score'}, axis = 1)"
   ]
  },
  {
   "cell_type": "code",
   "execution_count": 150,
   "metadata": {},
   "outputs": [],
   "source": [
    "both_pr = pd.merge(pagerank_improv, pagerank, on='index')\n",
    "both_pr = both_pr.rename(columns={'score_x':'pagerank_improved','score_y':'pagerank'})"
   ]
  },
  {
   "cell_type": "code",
   "execution_count": 151,
   "metadata": {},
   "outputs": [],
   "source": [
    "temp = both_pr[both_pr['pagerank_improved'] < 0.0000005]\n",
    "temp = both_pr[both_pr['pagerank'] < 0.0000005]"
   ]
  },
  {
   "cell_type": "code",
   "execution_count": 205,
   "metadata": {},
   "outputs": [
    {
     "data": {
      "image/png": "[encoded data removed]",
      "text/plain": [
       "<Figure size 432x432 with 1 Axes>"
      ]
     },
     "metadata": {},
     "output_type": "display_data"
    }
   ],
   "source": [
    "cols = ['pagerank_improved','pagerank']\n",
    "plt.figure(figsize=(6,6))\n",
    "plt.xlim(0.00000006, 0.0000010)\n",
    "for col in cols:\n",
    "    sns.kdeplot(temp[col], shade=True)\n",
    "plt.show()"
   ]
  },
  {
   "cell_type": "markdown",
   "metadata": {},
   "source": [
    "    Fig: Distribution of pagerank scores for \n",
    "          original and improved algorithms"
   ]
  },
  {
   "cell_type": "code",
   "execution_count": null,
   "metadata": {},
   "outputs": [],
   "source": []
  }
 ],
 "metadata": {
  "kernelspec": {
   "display_name": "Python 3",
   "language": "python",
   "name": "python3"
  },
  "language_info": {
   "codemirror_mode": {
    "name": "ipython",
    "version": 3
   },
   "file_extension": ".py",
   "mimetype": "text/x-python",
   "name": "python",
   "nbconvert_exporter": "python",
   "pygments_lexer": "ipython3",
   "version": "3.6.4"
  }
 },
 "nbformat": 4,
 "nbformat_minor": 2
}
