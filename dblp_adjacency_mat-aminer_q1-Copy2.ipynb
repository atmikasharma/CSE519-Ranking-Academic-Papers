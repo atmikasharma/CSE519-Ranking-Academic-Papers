{
 "cells": [
  {
   "cell_type": "code",
   "execution_count": 2,
   "metadata": {},
   "outputs": [],
   "source": [
    "import pandas as pd\n",
    "import json\n",
    "import math as m\n",
    "from sklearn.metrics import mean_squared_error\n",
    "from sklearn.linear_model import LinearRegression\n",
    "from sklearn import model_selection\n",
    "import collections\n",
    "import re\n",
    "\n",
    "from PIL import Image\n",
    "from wordcloud import WordCloud, STOPWORDS, ImageColorGenerator\n",
    "import matplotlib.pyplot as plt\n",
    "\n",
    "from nltk.util import ngrams\n",
    "from sklearn.model_selection import train_test_split\n",
    "from sklearn.pipeline import Pipeline\n",
    "from sklearn.linear_model import SGDClassifier\n",
    "from sklearn.feature_extraction.text import CountVectorizer\n",
    "from sklearn.model_selection import GridSearchCV\n",
    "from sklearn.feature_extraction.text import TfidfTransformer"
   ]
  },
  {
   "cell_type": "code",
   "execution_count": 3,
   "metadata": {},
   "outputs": [],
   "source": [
    "data_json = []\n",
    "with open('data/dblp-ref-0.json') as f:\n",
    "    for line in f:\n",
    "        data_json.append(json.loads(line))"
   ]
  },
  {
   "cell_type": "code",
   "execution_count": 4,
   "metadata": {},
   "outputs": [],
   "source": [
    "df = pd.DataFrame(data_json)"
   ]
  },
  {
   "cell_type": "code",
   "execution_count": 5,
   "metadata": {},
   "outputs": [],
   "source": [
    "df = df[df['abstract'].notnull()]"
   ]
  },
  {
   "cell_type": "code",
   "execution_count": 6,
   "metadata": {},
   "outputs": [],
   "source": [
    "research_words = set(line.strip() for line in open('data/research_words.txt'))"
   ]
  },
  {
   "cell_type": "code",
   "execution_count": 7,
   "metadata": {},
   "outputs": [],
   "source": [
    "parentdomain = {\n",
    "    \"coding theory\" : \"mathematical foundations\",\n",
    "    \"game theory\" : \"mathematical foundations\",\n",
    "    \"graph theory\" : \"mathematical foundations\",\n",
    "    \"mathematical logic\" : \"mathematical foundations\",\n",
    "    \"boolean logic\" : \"mathematical foundations\",\n",
    "    \"number theory\" : \"mathematical foundations\",\n",
    "    \"mathematical foundations\" : \"mathematical foundations\",\n",
    "    \"algorithms\" : \"algorithms and data structures\",\n",
    "    \"data structures\" : \"algorithms and data structures\",\n",
    "    \"algorithms and data structures\" : \"algorithms and data structures\",\n",
    "    \"automated reasoning\" : \"artificial intelligence\",\n",
    "    \"computer vision\" : \"artificial intelligence\",\n",
    "    \"machine learning\" : \"artificial intelligence\",\n",
    "    \"robotics\" : \"artificial intelligence\",\n",
    "    \"speech processing\" : \"artificial intelligence\",\n",
    "    \"data mining\" : \"artificial intelligence\",\n",
    "    \"evolutionary computing\" : \"artificial intelligence\",\n",
    "    \"natural language processing\" : \"artificial intelligence\",    \n",
    "    \"artificial intelligence\" : \"artificial intelligence\",\n",
    "    \"neural network\" : \"artificial intelligence\",\n",
    "    \"information retrieval\" : \"artificial intelligence\",\n",
    "    \"networking\" : \"communication and security\",\n",
    "    \"computer networks\" : \"communication and security\",\n",
    "    \"communication networks\" : \"communication and security\",\n",
    "    \"network attacks\" : \"communication and security\",\n",
    "    \"cryptography\" : \"communication and security\",\n",
    "    \"communication and security\" : \"communication and security\",\n",
    "    \"network protocols\" : \"communication and security\",\n",
    "    \"operating systems\" : \"computer architecture\",\n",
    "    \"computer architecture\" : \"computer architecture\",\n",
    "    \"image processing\" : \"computer graphics\",\n",
    "    \"information visualization\" : \"computer graphics\",\n",
    "    \"information visualisation\" : \"computer graphics\",\n",
    "    \"visualization\" : \"computer graphics\",\n",
    "    \"visualisation\" : \"computer graphics\",\n",
    "    \"computer graphics\" : \"computer graphics\",\n",
    "    \"graphics\" : \"computer graphics\",\n",
    "    \"parallel computing\" : \"concurrent, parallel, and distributed systems\",\n",
    "    \"concurrency\" : \"concurrent, parallel, and distributed systems\",\n",
    "    \"distributed computing\" : \"concurrent, parallel, and distributed systems\",\n",
    "    \"distributed systems\" : \"concurrent, parallel, and distributed systems\",\n",
    "    \"concurrent, parallel, and distributed systems\" : \"concurrent, parallel, and distributed systems\",\n",
    "    \"relational databases\" : \"databases\",\n",
    "    \"structured storage\" : \"databases\",\n",
    "    \"databases\" : \"databases\",\n",
    "    \"compiler theory\" : \"programming languages and compilers\",\n",
    "    \"programming language\" : \"programming languages and compilers\",\n",
    "    \"programming language pragmatics\" : \"programming languages and compilers\",\n",
    "    \"programming language theory\" : \"programming languages and compilers\",\n",
    "    \"formal semantics\" : \"programming languages and compilers\",\n",
    "    \"type theory\" : \"programming languages and compilers\",\n",
    "    \"programming languages and compilers\" : \"programming languages and compilers\",\n",
    "    \"computational science\" : \"scientific computing\",\n",
    "    \"numerical analysis\" : \"scientific computing\",\n",
    "    \"symbolic computation \" : \"scientific computing\",\n",
    "    \"computational physics\" : \"scientific computing\",\n",
    "    \"computational chemistry\" : \"scientific computing\",\n",
    "    \"bioinformatics\" : \"scientific computing\",\n",
    "    \"computational biology\" : \"scientific computing\",\n",
    "    \"computational neuroscience\" : \"scientific computing\",\n",
    "    \"scientific computing\" : \"scientific computing\",\n",
    "    \"formal methods\" : \"software engineering\",\n",
    "    \"algorithm design\" : \"software engineering\",\n",
    "    \"computer programming\" : \"software engineering\",\n",
    "    \"human–computer interaction\" : \"software engineering\",\n",
    "    \"reverse engineering\" : \"software engineering\",\n",
    "    \"software engineering\" : \"software engineering\",\n",
    "    \"automata theory \" : \"theory of computation\",\n",
    "    \"computability theory\" : \"theory of computation\",\n",
    "    \"computational complexity theory\" : \"theory of computation\",\n",
    "    \"quantum computing\" : \"theory of computation\",\n",
    "    \"theory of computation\" : \"theory of computation\",   \n",
    "}"
   ]
  },
  {
   "cell_type": "code",
   "execution_count": 8,
   "metadata": {},
   "outputs": [],
   "source": [
    "df_copy = df.copy()\n",
    "def getdomainlist(row):\n",
    "    abst = row['abstract'] if type(row['abstract']) != float else \"\"\n",
    "    venue = row['venue'] if type(row['venue']) != float else \"\"\n",
    "    \n",
    "    text = abst + \" \" + row['title'] + \" \" + venue\n",
    "    text = text.lower()\n",
    "    text = re.sub(r'[^a-zA-Z0-9\\s]', ' ', text)\n",
    "    tokens = [token for token in text.split(\" \") if token != \"\"]\n",
    "    output1 = list(ngrams(tokens, 1))\n",
    "    output2 = list(ngrams(tokens, 2))\n",
    "    output3 = list(ngrams(tokens, 3))\n",
    "    output = []\n",
    "    for words in output1:\n",
    "        output.append(' '.join(words))\n",
    "    for words in output2:\n",
    "        output.append(' '.join(words))\n",
    "    for words in output3:\n",
    "        output.append(' '.join(words))\n",
    "    domainlist = set()\n",
    "    for word in output:\n",
    "        if word in parentdomain:\n",
    "            domainlist.add(parentdomain[word])\n",
    "    if len(domainlist) > 0 :\n",
    "        return list(domainlist)[0]\n",
    "    else:\n",
    "        return \"\"\n",
    "\n",
    "df_copy['domain'] = df_copy.apply(getdomainlist, axis = 1)"
   ]
  },
  {
   "cell_type": "code",
   "execution_count": 9,
   "metadata": {},
   "outputs": [],
   "source": [
    "dffinal = df_copy[df_copy['domain'].map(lambda x: len(x) >0)]"
   ]
  },
  {
   "cell_type": "code",
   "execution_count": 10,
   "metadata": {},
   "outputs": [
    {
     "name": "stderr",
     "output_type": "stream",
     "text": [
      "/jet/var/python/lib/python3.6/site-packages/ipykernel_launcher.py:1: SettingWithCopyWarning: \n",
      "A value is trying to be set on a copy of a slice from a DataFrame.\n",
      "Try using .loc[row_indexer,col_indexer] = value instead\n",
      "\n",
      "See the caveats in the documentation: http://pandas.pydata.org/pandas-docs/stable/indexing.html#indexing-view-versus-copy\n",
      "  \"\"\"Entry point for launching an IPython kernel.\n"
     ]
    }
   ],
   "source": [
    "dffinal['text'] = dffinal[['abstract', 'title', 'venue']].apply(lambda x: ' '.join(x), axis=1)"
   ]
  },
  {
   "cell_type": "code",
   "execution_count": 11,
   "metadata": {},
   "outputs": [
    {
     "name": "stdout",
     "output_type": "stream",
     "text": [
      "Fitting 5 folds for each of 24 candidates, totalling 120 fits\n"
     ]
    },
    {
     "name": "stderr",
     "output_type": "stream",
     "text": [
      "[Parallel(n_jobs=10)]: Using backend LokyBackend with 10 concurrent workers.\n",
      "[Parallel(n_jobs=10)]: Done  30 tasks      | elapsed:  1.1min\n",
      "[Parallel(n_jobs=10)]: Done 120 out of 120 | elapsed:  4.6min finished\n",
      "/jet/var/python/lib/python3.6/site-packages/sklearn/linear_model/stochastic_gradient.py:183: FutureWarning: max_iter and tol parameters have been added in SGDClassifier in 0.19. If max_iter is set but tol is left unset, the default value for tol in 0.19 and 0.20 will be None (which is equivalent to -infinity, so it has no effect) but will change in 0.21 to 1e-3. Specify tol to silence this warning.\n",
      "  FutureWarning)\n"
     ]
    },
    {
     "data": {
      "text/plain": [
       "GridSearchCV(cv=5, error_score='raise-deprecating',\n",
       "       estimator=Pipeline(memory=None,\n",
       "     steps=[('vect', CountVectorizer(analyzer='word', binary=False, decode_error='strict',\n",
       "        dtype=<class 'numpy.int64'>, encoding='utf-8', input='content',\n",
       "        lowercase=True, max_df=1.0, max_features=None, min_df=1,\n",
       "        ngram_range=(1, 1), preprocessor=None, stop_words='english',\n",
       "        ...m_state=None, shuffle=True, tol=None,\n",
       "       validation_fraction=0.1, verbose=0, warm_start=False))]),\n",
       "       fit_params=None, iid='warn', n_jobs=10,\n",
       "       param_grid={'vect__max_df': (0.5, 0.75, 1.0), 'vect__ngram_range': ((1, 1), (1, 2)), 'clf__max_iter': (5,), 'clf__alpha': (1e-05, 1e-06), 'clf__penalty': ('l2', 'elasticnet')},\n",
       "       pre_dispatch='2*n_jobs', refit=True, return_train_score='warn',\n",
       "       scoring=None, verbose=1)"
      ]
     },
     "execution_count": 11,
     "metadata": {},
     "output_type": "execute_result"
    }
   ],
   "source": [
    "X_train, X_test, y_train, y_test = train_test_split(dffinal['text'].head(30000), dffinal['domain'].head(30000), random_state = 0)\n",
    "\n",
    "pipeline = Pipeline([('vect', CountVectorizer(stop_words='english')),\n",
    "                     ('tfidf', TfidfTransformer()),\n",
    "                     ('clf', SGDClassifier(loss='hinge'))\n",
    "                     ])\n",
    "\n",
    "parameters = {\n",
    "    'vect__max_df': (0.5, 0.75, 1.0),\n",
    "    # 'vect__max_features': (None, 5000, 10000, 50000),\n",
    "    'vect__ngram_range': ((1, 1), (1, 2)),  # unigrams or bigrams\n",
    "    # 'tfidf__use_idf': (True, False),\n",
    "    # 'tfidf__norm': ('l1', 'l2'),\n",
    "    'clf__max_iter': (5,),\n",
    "    'clf__alpha': (0.00001, 0.000001),\n",
    "    'clf__penalty': ('l2', 'elasticnet'),\n",
    "    # 'clf__max_iter': (10, 50, 80),\n",
    "}\n",
    "\n",
    "grid_search = GridSearchCV(pipeline, parameters, cv=5,n_jobs=10,\n",
    "                               verbose=1)\n",
    "grid_search.fit(X_train, y_train)"
   ]
  },
  {
   "cell_type": "code",
   "execution_count": 12,
   "metadata": {},
   "outputs": [],
   "source": [
    "df['text'] = df[['abstract', 'title']].apply(lambda x: ' '.join(x), axis=1)"
   ]
  },
  {
   "cell_type": "code",
   "execution_count": 13,
   "metadata": {},
   "outputs": [
    {
     "data": {
      "text/plain": [
       "753646"
      ]
     },
     "execution_count": 13,
     "metadata": {},
     "output_type": "execute_result"
    }
   ],
   "source": [
    "len(df)"
   ]
  },
  {
   "cell_type": "code",
   "execution_count": 14,
   "metadata": {},
   "outputs": [],
   "source": [
    "answer = grid_search.predict(df['text'].values.tolist())"
   ]
  },
  {
   "cell_type": "code",
   "execution_count": 15,
   "metadata": {},
   "outputs": [],
   "source": [
    "df['domain'] = answer.tolist()"
   ]
  },
  {
   "cell_type": "code",
   "execution_count": 16,
   "metadata": {},
   "outputs": [],
   "source": [
    "dfplot = df.groupby('domain').count().reset_index()"
   ]
  },
  {
   "cell_type": "code",
   "execution_count": 17,
   "metadata": {},
   "outputs": [],
   "source": [
    "dfplot1 = dfplot[['domain','text']]"
   ]
  },
  {
   "cell_type": "code",
   "execution_count": 111,
   "metadata": {},
   "outputs": [],
   "source": [
    "tempdfplot1 = dfplot1.drop([7,11,3])"
   ]
  },
  {
   "cell_type": "code",
   "execution_count": 115,
   "metadata": {},
   "outputs": [
    {
     "data": {
      "image/png": "[encoded data removed]",
      "text/plain": [
       "<Figure size 432x432 with 1 Axes>"
      ]
     },
     "metadata": {},
     "output_type": "display_data"
    }
   ],
   "source": [
    "from matplotlib import colors as mcolors\n",
    "\n",
    "plt.figure(figsize=(6,6))\n",
    "colors = dict(mcolors.TABLEAU_COLORS, **mcolors.CSS4_COLORS)\n",
    "labels = tempdfplot1['domain'].head(10)\n",
    "sizes = tempdfplot1['text'].head(10)\n",
    "# colors = ['b', 'g', 'r', 'c', 'm', 'y', 'k', 'w']\n",
    "# colors = blend_soft_light(rgb, intensity)\n",
    "explode = (0, 0, 0, 0, 0, 0, 0, 0, 0)  # explode a slice if required\n",
    "\n",
    "plt.pie(sizes, explode=explode, labels=labels, colors=colors,\n",
    "        autopct='%1.1f%%', shadow=False)\n",
    "        \n",
    "#draw a circle at the center of pie to make it look like a donut\n",
    "centre_circle = plt.Circle((0,0),0.75,color='black', fc='white',linewidth=1.25)\n",
    "fig = plt.gcf()\n",
    "fig.gca().add_artist(centre_circle)\n",
    "\n",
    "\n",
    "# Set aspect ratio to be equal so that pie is drawn as a circle.\n",
    "plt.axis('equal')\n",
    "plt.show()"
   ]
  },
  {
   "cell_type": "markdown",
   "metadata": {},
   "source": [
    "              Fig: Popularity of domains in research work"
   ]
  },
  {
   "cell_type": "code",
   "execution_count": 18,
   "metadata": {},
   "outputs": [],
   "source": [
    "startups = pd.read_csv(\"data/startups.csv\")"
   ]
  },
  {
   "cell_type": "code",
   "execution_count": 30,
   "metadata": {},
   "outputs": [],
   "source": [
    "startups = startups.dropna()"
   ]
  },
  {
   "cell_type": "code",
   "execution_count": 31,
   "metadata": {},
   "outputs": [],
   "source": [
    "t = grid_search.predict(startups['description'].values.tolist())"
   ]
  },
  {
   "cell_type": "code",
   "execution_count": 32,
   "metadata": {},
   "outputs": [],
   "source": [
    "startups['domain'] = pd.Series(t).values"
   ]
  },
  {
   "cell_type": "code",
   "execution_count": 33,
   "metadata": {},
   "outputs": [],
   "source": [
    "startupplot = startups.groupby('domain').count().reset_index()"
   ]
  },
  {
   "cell_type": "code",
   "execution_count": 34,
   "metadata": {},
   "outputs": [],
   "source": [
    "startupplot1 = startupplot[['domain','description']]"
   ]
  },
  {
   "cell_type": "code",
   "execution_count": 35,
   "metadata": {},
   "outputs": [
    {
     "data": {
      "text/html": [
       "<div>\n",
       "<style scoped>\n",
       "    .dataframe tbody tr th:only-of-type {\n",
       "        vertical-align: middle;\n",
       "    }\n",
       "\n",
       "    .dataframe tbody tr th {\n",
       "        vertical-align: top;\n",
       "    }\n",
       "\n",
       "    .dataframe thead th {\n",
       "        text-align: right;\n",
       "    }\n",
       "</style>\n",
       "<table border=\"1\" class=\"dataframe\">\n",
       "  <thead>\n",
       "    <tr style=\"text-align: right;\">\n",
       "      <th></th>\n",
       "      <th>domain</th>\n",
       "      <th>description</th>\n",
       "    </tr>\n",
       "  </thead>\n",
       "  <tbody>\n",
       "    <tr>\n",
       "      <th>0</th>\n",
       "      <td>algorithms and data structures</td>\n",
       "      <td>17890</td>\n",
       "    </tr>\n",
       "    <tr>\n",
       "      <th>1</th>\n",
       "      <td>artificial intelligence</td>\n",
       "      <td>11166</td>\n",
       "    </tr>\n",
       "    <tr>\n",
       "      <th>2</th>\n",
       "      <td>communication and security</td>\n",
       "      <td>3737</td>\n",
       "    </tr>\n",
       "    <tr>\n",
       "      <th>3</th>\n",
       "      <td>computer architecture</td>\n",
       "      <td>143</td>\n",
       "    </tr>\n",
       "    <tr>\n",
       "      <th>4</th>\n",
       "      <td>computer graphics</td>\n",
       "      <td>1347</td>\n",
       "    </tr>\n",
       "    <tr>\n",
       "      <th>5</th>\n",
       "      <td>concurrent, parallel, and distributed systems</td>\n",
       "      <td>216</td>\n",
       "    </tr>\n",
       "    <tr>\n",
       "      <th>6</th>\n",
       "      <td>databases</td>\n",
       "      <td>403</td>\n",
       "    </tr>\n",
       "    <tr>\n",
       "      <th>7</th>\n",
       "      <td>mathematical foundations</td>\n",
       "      <td>233</td>\n",
       "    </tr>\n",
       "    <tr>\n",
       "      <th>8</th>\n",
       "      <td>programming languages and compilers</td>\n",
       "      <td>47</td>\n",
       "    </tr>\n",
       "    <tr>\n",
       "      <th>9</th>\n",
       "      <td>scientific computing</td>\n",
       "      <td>217</td>\n",
       "    </tr>\n",
       "    <tr>\n",
       "      <th>10</th>\n",
       "      <td>software engineering</td>\n",
       "      <td>633</td>\n",
       "    </tr>\n",
       "    <tr>\n",
       "      <th>11</th>\n",
       "      <td>theory of computation</td>\n",
       "      <td>4</td>\n",
       "    </tr>\n",
       "  </tbody>\n",
       "</table>\n",
       "</div>"
      ],
      "text/plain": [
       "                                           domain  description\n",
       "0                  algorithms and data structures        17890\n",
       "1                         artificial intelligence        11166\n",
       "2                      communication and security         3737\n",
       "3                           computer architecture          143\n",
       "4                               computer graphics         1347\n",
       "5   concurrent, parallel, and distributed systems          216\n",
       "6                                       databases          403\n",
       "7                        mathematical foundations          233\n",
       "8             programming languages and compilers           47\n",
       "9                            scientific computing          217\n",
       "10                           software engineering          633\n",
       "11                          theory of computation            4"
      ]
     },
     "execution_count": 35,
     "metadata": {},
     "output_type": "execute_result"
    }
   ],
   "source": [
    "startupplot1"
   ]
  },
  {
   "cell_type": "code",
   "execution_count": 36,
   "metadata": {},
   "outputs": [],
   "source": [
    "tempstartup = startupplot1.drop([3,11,8,9])"
   ]
  },
  {
   "cell_type": "code",
   "execution_count": 37,
   "metadata": {},
   "outputs": [],
   "source": [
    "tempstartup = tempstartup.drop([0])"
   ]
  },
  {
   "cell_type": "code",
   "execution_count": 38,
   "metadata": {},
   "outputs": [
    {
     "data": {
      "image/png": "[encoded data removed]",
      "text/plain": [
       "<Figure size 576x576 with 1 Axes>"
      ]
     },
     "metadata": {},
     "output_type": "display_data"
    }
   ],
   "source": [
    "from matplotlib import colors as mcolors\n",
    "\n",
    "plt.figure(figsize=(8,8))\n",
    "colors = dict(mcolors.TABLEAU_COLORS, **mcolors.CSS4_COLORS)\n",
    "labels = tempstartup['domain'].head(10)\n",
    "sizes = tempstartup['description'].head(10)\n",
    "# colors = ['b', 'g', 'r', 'c', 'm', 'y', 'k', 'w']\n",
    "# colors = blend_soft_light(rgb, intensity)\n",
    "explode = (0, 0, 0, 0, 0, 0, 0)  # explode a slice if required\n",
    "\n",
    "plt.pie(sizes, explode=explode, labels=labels, colors=colors,\n",
    "        autopct='%1.1f%%', shadow=False)\n",
    "        \n",
    "#draw a circle at the center of pie to make it look like a donut\n",
    "centre_circle = plt.Circle((0,0),0.75,color='black', fc='white',linewidth=1.25)\n",
    "fig = plt.gcf()\n",
    "fig.gca().add_artist(centre_circle)\n",
    "\n",
    "\n",
    "# Set aspect ratio to be equal so that pie is drawn as a circle.\n",
    "plt.axis('equal')\n",
    "plt.show()"
   ]
  },
  {
   "cell_type": "markdown",
   "metadata": {},
   "source": [
    "                Fig: Popularity of domains in startups"
   ]
  },
  {
   "cell_type": "code",
   "execution_count": null,
   "metadata": {},
   "outputs": [],
   "source": [
    "f, (ax1, ax2) = plt.subplots(1, 2, sharey=True)\n",
    "ax1.plot(x, y)\n",
    "ax1.set_title('Sharing Y axis')\n",
    "ax2.plot(x, y)"
   ]
  },
  {
   "cell_type": "code",
   "execution_count": 39,
   "metadata": {},
   "outputs": [],
   "source": [
    "compare = pd.merge(dfplot1, startupplot1, on='domain')"
   ]
  },
  {
   "cell_type": "code",
   "execution_count": 40,
   "metadata": {},
   "outputs": [],
   "source": [
    "compare = compare.rename(index=str, columns={\"text\": \"in_papers\", \"description\": \"in_startup\"})"
   ]
  },
  {
   "cell_type": "code",
   "execution_count": 41,
   "metadata": {},
   "outputs": [
    {
     "data": {
      "text/html": [
       "<div>\n",
       "<style scoped>\n",
       "    .dataframe tbody tr th:only-of-type {\n",
       "        vertical-align: middle;\n",
       "    }\n",
       "\n",
       "    .dataframe tbody tr th {\n",
       "        vertical-align: top;\n",
       "    }\n",
       "\n",
       "    .dataframe thead th {\n",
       "        text-align: right;\n",
       "    }\n",
       "</style>\n",
       "<table border=\"1\" class=\"dataframe\">\n",
       "  <thead>\n",
       "    <tr style=\"text-align: right;\">\n",
       "      <th></th>\n",
       "      <th>domain</th>\n",
       "      <th>in_papers</th>\n",
       "      <th>in_startup</th>\n",
       "    </tr>\n",
       "  </thead>\n",
       "  <tbody>\n",
       "    <tr>\n",
       "      <th>0</th>\n",
       "      <td>algorithms and data structures</td>\n",
       "      <td>308266</td>\n",
       "      <td>17890</td>\n",
       "    </tr>\n",
       "    <tr>\n",
       "      <th>1</th>\n",
       "      <td>artificial intelligence</td>\n",
       "      <td>252720</td>\n",
       "      <td>11166</td>\n",
       "    </tr>\n",
       "    <tr>\n",
       "      <th>2</th>\n",
       "      <td>communication and security</td>\n",
       "      <td>55232</td>\n",
       "      <td>3737</td>\n",
       "    </tr>\n",
       "    <tr>\n",
       "      <th>3</th>\n",
       "      <td>computer architecture</td>\n",
       "      <td>3973</td>\n",
       "      <td>143</td>\n",
       "    </tr>\n",
       "    <tr>\n",
       "      <th>4</th>\n",
       "      <td>computer graphics</td>\n",
       "      <td>36717</td>\n",
       "      <td>1347</td>\n",
       "    </tr>\n",
       "    <tr>\n",
       "      <th>5</th>\n",
       "      <td>concurrent, parallel, and distributed systems</td>\n",
       "      <td>17874</td>\n",
       "      <td>216</td>\n",
       "    </tr>\n",
       "    <tr>\n",
       "      <th>6</th>\n",
       "      <td>databases</td>\n",
       "      <td>18802</td>\n",
       "      <td>403</td>\n",
       "    </tr>\n",
       "    <tr>\n",
       "      <th>7</th>\n",
       "      <td>mathematical foundations</td>\n",
       "      <td>8761</td>\n",
       "      <td>233</td>\n",
       "    </tr>\n",
       "    <tr>\n",
       "      <th>8</th>\n",
       "      <td>programming languages and compilers</td>\n",
       "      <td>8862</td>\n",
       "      <td>47</td>\n",
       "    </tr>\n",
       "    <tr>\n",
       "      <th>9</th>\n",
       "      <td>scientific computing</td>\n",
       "      <td>13546</td>\n",
       "      <td>217</td>\n",
       "    </tr>\n",
       "    <tr>\n",
       "      <th>10</th>\n",
       "      <td>software engineering</td>\n",
       "      <td>28104</td>\n",
       "      <td>633</td>\n",
       "    </tr>\n",
       "    <tr>\n",
       "      <th>11</th>\n",
       "      <td>theory of computation</td>\n",
       "      <td>789</td>\n",
       "      <td>4</td>\n",
       "    </tr>\n",
       "  </tbody>\n",
       "</table>\n",
       "</div>"
      ],
      "text/plain": [
       "                                           domain  in_papers  in_startup\n",
       "0                  algorithms and data structures     308266       17890\n",
       "1                         artificial intelligence     252720       11166\n",
       "2                      communication and security      55232        3737\n",
       "3                           computer architecture       3973         143\n",
       "4                               computer graphics      36717        1347\n",
       "5   concurrent, parallel, and distributed systems      17874         216\n",
       "6                                       databases      18802         403\n",
       "7                        mathematical foundations       8761         233\n",
       "8             programming languages and compilers       8862          47\n",
       "9                            scientific computing      13546         217\n",
       "10                           software engineering      28104         633\n",
       "11                          theory of computation        789           4"
      ]
     },
     "execution_count": 41,
     "metadata": {},
     "output_type": "execute_result"
    }
   ],
   "source": [
    "compare"
   ]
  },
  {
   "cell_type": "code",
   "execution_count": 42,
   "metadata": {},
   "outputs": [
    {
     "data": {
      "text/plain": [
       "308266"
      ]
     },
     "execution_count": 42,
     "metadata": {},
     "output_type": "execute_result"
    }
   ],
   "source": [
    "(compare['in_papers'].max())"
   ]
  },
  {
   "cell_type": "code",
   "execution_count": 43,
   "metadata": {},
   "outputs": [],
   "source": [
    "compare['in_papers'] = (compare['in_papers'])/360000\n",
    "compare['in_startup'] = (compare['in_startup'])/25000"
   ]
  },
  {
   "cell_type": "code",
   "execution_count": 44,
   "metadata": {},
   "outputs": [],
   "source": [
    "# compare['in_papers'] = compare['in_papers']/(compare['in_papers'].max())\n",
    "# compare['in_startup'] = compare['in_startup']/(compare['in_startup'].max())"
   ]
  },
  {
   "cell_type": "code",
   "execution_count": 45,
   "metadata": {},
   "outputs": [
    {
     "data": {
      "text/html": [
       "<div>\n",
       "<style scoped>\n",
       "    .dataframe tbody tr th:only-of-type {\n",
       "        vertical-align: middle;\n",
       "    }\n",
       "\n",
       "    .dataframe tbody tr th {\n",
       "        vertical-align: top;\n",
       "    }\n",
       "\n",
       "    .dataframe thead th {\n",
       "        text-align: right;\n",
       "    }\n",
       "</style>\n",
       "<table border=\"1\" class=\"dataframe\">\n",
       "  <thead>\n",
       "    <tr style=\"text-align: right;\">\n",
       "      <th></th>\n",
       "      <th>domain</th>\n",
       "      <th>in_papers</th>\n",
       "      <th>in_startup</th>\n",
       "    </tr>\n",
       "  </thead>\n",
       "  <tbody>\n",
       "    <tr>\n",
       "      <th>0</th>\n",
       "      <td>algorithms and data structures</td>\n",
       "      <td>0.856294</td>\n",
       "      <td>0.71560</td>\n",
       "    </tr>\n",
       "    <tr>\n",
       "      <th>1</th>\n",
       "      <td>artificial intelligence</td>\n",
       "      <td>0.702000</td>\n",
       "      <td>0.44664</td>\n",
       "    </tr>\n",
       "    <tr>\n",
       "      <th>2</th>\n",
       "      <td>communication and security</td>\n",
       "      <td>0.153422</td>\n",
       "      <td>0.14948</td>\n",
       "    </tr>\n",
       "    <tr>\n",
       "      <th>3</th>\n",
       "      <td>computer architecture</td>\n",
       "      <td>0.011036</td>\n",
       "      <td>0.00572</td>\n",
       "    </tr>\n",
       "    <tr>\n",
       "      <th>4</th>\n",
       "      <td>computer graphics</td>\n",
       "      <td>0.101992</td>\n",
       "      <td>0.05388</td>\n",
       "    </tr>\n",
       "    <tr>\n",
       "      <th>5</th>\n",
       "      <td>concurrent, parallel, and distributed systems</td>\n",
       "      <td>0.049650</td>\n",
       "      <td>0.00864</td>\n",
       "    </tr>\n",
       "    <tr>\n",
       "      <th>6</th>\n",
       "      <td>databases</td>\n",
       "      <td>0.052228</td>\n",
       "      <td>0.01612</td>\n",
       "    </tr>\n",
       "    <tr>\n",
       "      <th>7</th>\n",
       "      <td>mathematical foundations</td>\n",
       "      <td>0.024336</td>\n",
       "      <td>0.00932</td>\n",
       "    </tr>\n",
       "    <tr>\n",
       "      <th>8</th>\n",
       "      <td>programming languages and compilers</td>\n",
       "      <td>0.024617</td>\n",
       "      <td>0.00188</td>\n",
       "    </tr>\n",
       "    <tr>\n",
       "      <th>9</th>\n",
       "      <td>scientific computing</td>\n",
       "      <td>0.037628</td>\n",
       "      <td>0.00868</td>\n",
       "    </tr>\n",
       "    <tr>\n",
       "      <th>10</th>\n",
       "      <td>software engineering</td>\n",
       "      <td>0.078067</td>\n",
       "      <td>0.02532</td>\n",
       "    </tr>\n",
       "    <tr>\n",
       "      <th>11</th>\n",
       "      <td>theory of computation</td>\n",
       "      <td>0.002192</td>\n",
       "      <td>0.00016</td>\n",
       "    </tr>\n",
       "  </tbody>\n",
       "</table>\n",
       "</div>"
      ],
      "text/plain": [
       "                                           domain  in_papers  in_startup\n",
       "0                  algorithms and data structures   0.856294     0.71560\n",
       "1                         artificial intelligence   0.702000     0.44664\n",
       "2                      communication and security   0.153422     0.14948\n",
       "3                           computer architecture   0.011036     0.00572\n",
       "4                               computer graphics   0.101992     0.05388\n",
       "5   concurrent, parallel, and distributed systems   0.049650     0.00864\n",
       "6                                       databases   0.052228     0.01612\n",
       "7                        mathematical foundations   0.024336     0.00932\n",
       "8             programming languages and compilers   0.024617     0.00188\n",
       "9                            scientific computing   0.037628     0.00868\n",
       "10                           software engineering   0.078067     0.02532\n",
       "11                          theory of computation   0.002192     0.00016"
      ]
     },
     "execution_count": 45,
     "metadata": {},
     "output_type": "execute_result"
    }
   ],
   "source": [
    "compare"
   ]
  },
  {
   "cell_type": "code",
   "execution_count": 105,
   "metadata": {},
   "outputs": [
    {
     "data": {
      "image/png": "[encoded data removed]",
      "text/plain": [
       "<Figure size 432x432 with 1 Axes>"
      ]
     },
     "metadata": {},
     "output_type": "display_data"
    }
   ],
   "source": [
    "import numpy as np\n",
    "import matplotlib.pyplot as plt\n",
    " \n",
    "# set width of bar\n",
    "barWidth = 0.25\n",
    "i = 0\n",
    " \n",
    "# Set position of bar on X axis\n",
    "r1 = np.arange(len(compare['in_papers']))\n",
    "r2 = [x + barWidth for x in r1]\n",
    "plt.figure(figsize=(6,6))\n",
    "# Make the plot\n",
    "plt.bar(r1, compare['in_papers'], color='#7f6d5f', width=barWidth, edgecolor='white', label='In Research Work')\n",
    "plt.bar(r2, compare['in_startup'], color='#557f2d', width=barWidth, edgecolor='white', label='In Startup')\n",
    " \n",
    "# Add xticks on the middle of the group bars\n",
    "plt.xlabel('Domain', fontweight='bold')\n",
    "plt.xticks([r for r in range(len(compare['in_papers']))], [compare['domain'][0], compare['domain'][1], \n",
    "                                                                      compare['domain'][2], compare['domain'][3],\n",
    "                                                                      compare['domain'][4], compare['domain'][5],\n",
    "                                                                      compare['domain'][6], compare['domain'][7],\n",
    "                                                                      compare['domain'][8], compare['domain'][9],\n",
    "                                                                      compare['domain'][10], compare['domain'][11]], rotation=90)\n",
    "\n",
    "# Create legend & Show graphic\n",
    "plt.legend()\n",
    "\n",
    "plt.show()\n"
   ]
  },
  {
   "cell_type": "code",
   "execution_count": 48,
   "metadata": {},
   "outputs": [],
   "source": [
    "newsdf1 = pd.read_csv(\"data/articles1.csv\")\n",
    "newsdf2 = pd.read_csv(\"data/articles2.csv\")\n",
    "newsdf3 = pd.read_csv(\"data/articles3.csv\")"
   ]
  },
  {
   "cell_type": "code",
   "execution_count": 49,
   "metadata": {},
   "outputs": [],
   "source": [
    "news = pd.concat([newsdf1, newsdf2, newsdf3])"
   ]
  },
  {
   "cell_type": "code",
   "execution_count": 50,
   "metadata": {},
   "outputs": [],
   "source": [
    "news = news.dropna(subset=['title', 'content'])"
   ]
  },
  {
   "cell_type": "code",
   "execution_count": 51,
   "metadata": {},
   "outputs": [],
   "source": [
    "news['text'] = news[['content', 'title']].apply(lambda x: ' '.join(x), axis=1)"
   ]
  },
  {
   "cell_type": "code",
   "execution_count": 52,
   "metadata": {},
   "outputs": [],
   "source": [
    "news = news.drop(columns={'Unnamed: 0'}, axis=1)"
   ]
  },
  {
   "cell_type": "code",
   "execution_count": 53,
   "metadata": {},
   "outputs": [],
   "source": [
    "t1 = grid_search.predict(news['text'].values.tolist())"
   ]
  },
  {
   "cell_type": "code",
   "execution_count": 54,
   "metadata": {},
   "outputs": [],
   "source": [
    "news['domain'] = pd.Series(t1).values"
   ]
  },
  {
   "cell_type": "code",
   "execution_count": 174,
   "metadata": {},
   "outputs": [
    {
     "data": {
      "text/html": [
       "<div>\n",
       "<style scoped>\n",
       "    .dataframe tbody tr th:only-of-type {\n",
       "        vertical-align: middle;\n",
       "    }\n",
       "\n",
       "    .dataframe tbody tr th {\n",
       "        vertical-align: top;\n",
       "    }\n",
       "\n",
       "    .dataframe thead th {\n",
       "        text-align: right;\n",
       "    }\n",
       "</style>\n",
       "<table border=\"1\" class=\"dataframe\">\n",
       "  <thead>\n",
       "    <tr style=\"text-align: right;\">\n",
       "      <th></th>\n",
       "      <th>id</th>\n",
       "      <th>title</th>\n",
       "      <th>publication</th>\n",
       "      <th>author</th>\n",
       "      <th>date</th>\n",
       "      <th>year</th>\n",
       "      <th>month</th>\n",
       "      <th>content</th>\n",
       "      <th>text</th>\n",
       "      <th>domain</th>\n",
       "    </tr>\n",
       "  </thead>\n",
       "  <tbody>\n",
       "    <tr>\n",
       "      <th>0</th>\n",
       "      <td>17283</td>\n",
       "      <td>House Republicans Fret About Winning Their Hea...</td>\n",
       "      <td>New York Times</td>\n",
       "      <td>Carl Hulse</td>\n",
       "      <td>2016-12-31</td>\n",
       "      <td>2016.0</td>\n",
       "      <td>12.0</td>\n",
       "      <td>WASHINGTON  —   Congressional Republicans have...</td>\n",
       "      <td>WASHINGTON  —   Congressional Republicans have...</td>\n",
       "      <td>communication and security</td>\n",
       "    </tr>\n",
       "    <tr>\n",
       "      <th>1</th>\n",
       "      <td>17284</td>\n",
       "      <td>Rift Between Officers and Residents as Killing...</td>\n",
       "      <td>New York Times</td>\n",
       "      <td>Benjamin Mueller and Al Baker</td>\n",
       "      <td>2017-06-19</td>\n",
       "      <td>2017.0</td>\n",
       "      <td>6.0</td>\n",
       "      <td>After the bullet shells get counted, the blood...</td>\n",
       "      <td>After the bullet shells get counted, the blood...</td>\n",
       "      <td>artificial intelligence</td>\n",
       "    </tr>\n",
       "  </tbody>\n",
       "</table>\n",
       "</div>"
      ],
      "text/plain": [
       "      id                                              title     publication  \\\n",
       "0  17283  House Republicans Fret About Winning Their Hea...  New York Times   \n",
       "1  17284  Rift Between Officers and Residents as Killing...  New York Times   \n",
       "\n",
       "                          author        date    year  month  \\\n",
       "0                     Carl Hulse  2016-12-31  2016.0   12.0   \n",
       "1  Benjamin Mueller and Al Baker  2017-06-19  2017.0    6.0   \n",
       "\n",
       "                                             content  \\\n",
       "0  WASHINGTON  —   Congressional Republicans have...   \n",
       "1  After the bullet shells get counted, the blood...   \n",
       "\n",
       "                                                text  \\\n",
       "0  WASHINGTON  —   Congressional Republicans have...   \n",
       "1  After the bullet shells get counted, the blood...   \n",
       "\n",
       "                       domain  \n",
       "0  communication and security  \n",
       "1     artificial intelligence  "
      ]
     },
     "execution_count": 174,
     "metadata": {},
     "output_type": "execute_result"
    }
   ],
   "source": [
    "news.head(2).drop(columns={'url'},axis=1)"
   ]
  },
  {
   "cell_type": "code",
   "execution_count": 91,
   "metadata": {},
   "outputs": [],
   "source": [
    "newsplot = news.groupby('domain').count().reset_index()"
   ]
  },
  {
   "cell_type": "code",
   "execution_count": 92,
   "metadata": {},
   "outputs": [],
   "source": [
    "newsplot1 = newsplot[['domain','text']]"
   ]
  },
  {
   "cell_type": "code",
   "execution_count": 93,
   "metadata": {},
   "outputs": [
    {
     "data": {
      "text/html": [
       "<div>\n",
       "<style scoped>\n",
       "    .dataframe tbody tr th:only-of-type {\n",
       "        vertical-align: middle;\n",
       "    }\n",
       "\n",
       "    .dataframe tbody tr th {\n",
       "        vertical-align: top;\n",
       "    }\n",
       "\n",
       "    .dataframe thead th {\n",
       "        text-align: right;\n",
       "    }\n",
       "</style>\n",
       "<table border=\"1\" class=\"dataframe\">\n",
       "  <thead>\n",
       "    <tr style=\"text-align: right;\">\n",
       "      <th></th>\n",
       "      <th>domain</th>\n",
       "      <th>text</th>\n",
       "    </tr>\n",
       "  </thead>\n",
       "  <tbody>\n",
       "    <tr>\n",
       "      <th>0</th>\n",
       "      <td>algorithms and data structures</td>\n",
       "      <td>30179</td>\n",
       "    </tr>\n",
       "    <tr>\n",
       "      <th>1</th>\n",
       "      <td>artificial intelligence</td>\n",
       "      <td>93478</td>\n",
       "    </tr>\n",
       "    <tr>\n",
       "      <th>2</th>\n",
       "      <td>communication and security</td>\n",
       "      <td>9264</td>\n",
       "    </tr>\n",
       "    <tr>\n",
       "      <th>3</th>\n",
       "      <td>computer architecture</td>\n",
       "      <td>206</td>\n",
       "    </tr>\n",
       "    <tr>\n",
       "      <th>4</th>\n",
       "      <td>computer graphics</td>\n",
       "      <td>3733</td>\n",
       "    </tr>\n",
       "    <tr>\n",
       "      <th>5</th>\n",
       "      <td>concurrent, parallel, and distributed systems</td>\n",
       "      <td>257</td>\n",
       "    </tr>\n",
       "    <tr>\n",
       "      <th>6</th>\n",
       "      <td>databases</td>\n",
       "      <td>2148</td>\n",
       "    </tr>\n",
       "    <tr>\n",
       "      <th>7</th>\n",
       "      <td>mathematical foundations</td>\n",
       "      <td>586</td>\n",
       "    </tr>\n",
       "    <tr>\n",
       "      <th>8</th>\n",
       "      <td>programming languages and compilers</td>\n",
       "      <td>36</td>\n",
       "    </tr>\n",
       "    <tr>\n",
       "      <th>9</th>\n",
       "      <td>scientific computing</td>\n",
       "      <td>1299</td>\n",
       "    </tr>\n",
       "    <tr>\n",
       "      <th>10</th>\n",
       "      <td>software engineering</td>\n",
       "      <td>1376</td>\n",
       "    </tr>\n",
       "    <tr>\n",
       "      <th>11</th>\n",
       "      <td>theory of computation</td>\n",
       "      <td>6</td>\n",
       "    </tr>\n",
       "  </tbody>\n",
       "</table>\n",
       "</div>"
      ],
      "text/plain": [
       "                                           domain   text\n",
       "0                  algorithms and data structures  30179\n",
       "1                         artificial intelligence  93478\n",
       "2                      communication and security   9264\n",
       "3                           computer architecture    206\n",
       "4                               computer graphics   3733\n",
       "5   concurrent, parallel, and distributed systems    257\n",
       "6                                       databases   2148\n",
       "7                        mathematical foundations    586\n",
       "8             programming languages and compilers     36\n",
       "9                            scientific computing   1299\n",
       "10                           software engineering   1376\n",
       "11                          theory of computation      6"
      ]
     },
     "execution_count": 93,
     "metadata": {},
     "output_type": "execute_result"
    }
   ],
   "source": [
    "newsplot1"
   ]
  },
  {
   "cell_type": "code",
   "execution_count": 94,
   "metadata": {},
   "outputs": [],
   "source": [
    "tempnews = newsplot1.drop([0,11,8])"
   ]
  },
  {
   "cell_type": "code",
   "execution_count": 84,
   "metadata": {},
   "outputs": [
    {
     "data": {
      "image/png": "[encoded data removed]",
      "text/plain": [
       "<Figure size 720x720 with 1 Axes>"
      ]
     },
     "metadata": {},
     "output_type": "display_data"
    }
   ],
   "source": [
    "from matplotlib import colors as mcolors\n",
    "plt.figure(figsize=(10,10))\n",
    "colors = dict(mcolors.TABLEAU_COLORS, **mcolors.CSS4_COLORS)\n",
    "labels = tempnews['domain'].head(10)\n",
    "sizes = tempnews['text'].head(10)\n",
    "# colors = ['b', 'g', 'r', 'c', 'm', 'y', 'k', 'w']\n",
    "# colors = blend_soft_light(rgb, intensity)\n",
    "explode = (0, 0, 0, 0, 0, 0, 0, 0, 0)  # explode a slice if required\n",
    "\n",
    "plt.pie(sizes, explode=explode, labels=labels, colors=colors,\n",
    "        autopct='%1.1f%%', shadow=False, textprops={'fontsize': 10})\n",
    "        \n",
    "#draw a circle at the center of pie to make it look like a donut\n",
    "centre_circle = plt.Circle((0,0),0.75,color='black', fc='white',linewidth=1.25)\n",
    "fig = plt.gcf()\n",
    "fig.gca().add_artist(centre_circle)\n",
    "\n",
    "\n",
    "# Set aspect ratio to be equal so that pie is drawn as a circle.\n",
    "plt.axis('equal')\n",
    "plt.show()"
   ]
  },
  {
   "cell_type": "markdown",
   "metadata": {},
   "source": [
    "               Fig: Popularity of domains in news articles"
   ]
  },
  {
   "cell_type": "code",
   "execution_count": 60,
   "metadata": {},
   "outputs": [],
   "source": [
    "compare1 = pd.merge(dfplot1, newsplot1, on='domain')"
   ]
  },
  {
   "cell_type": "code",
   "execution_count": 61,
   "metadata": {},
   "outputs": [],
   "source": [
    "compare1 = compare1.rename(index=str, columns={\"text_x\": \"in_papers\", \"text_y\": \"in_news\"})"
   ]
  },
  {
   "cell_type": "code",
   "execution_count": 62,
   "metadata": {},
   "outputs": [
    {
     "data": {
      "text/plain": [
       "93478"
      ]
     },
     "execution_count": 62,
     "metadata": {},
     "output_type": "execute_result"
    }
   ],
   "source": [
    "compare1['in_news'].max()"
   ]
  },
  {
   "cell_type": "code",
   "execution_count": 63,
   "metadata": {},
   "outputs": [],
   "source": [
    "compare1['in_papers'] = compare1['in_papers']/(360000)\n",
    "compare1['in_news'] = compare1['in_news']/(110000)"
   ]
  },
  {
   "cell_type": "code",
   "execution_count": 64,
   "metadata": {},
   "outputs": [],
   "source": [
    "# compare1['in_papers'] = compare1['in_papers']/(compare1['in_papers'].max())\n",
    "# compare1['in_news'] = compare1['in_news']/(compare1['in_news'].max())"
   ]
  },
  {
   "cell_type": "code",
   "execution_count": 108,
   "metadata": {},
   "outputs": [
    {
     "data": {
      "image/png": "[encoded data removed]",
      "text/plain": [
       "<Figure size 432x432 with 1 Axes>"
      ]
     },
     "metadata": {},
     "output_type": "display_data"
    }
   ],
   "source": [
    "import numpy as np\n",
    "import matplotlib.pyplot as plt\n",
    " \n",
    "# set width of bar\n",
    "barWidth = 0.25\n",
    " \n",
    "# Set position of bar on X axis\n",
    "r1 = np.arange(len(compare['in_papers']))\n",
    "r2 = [x + barWidth for x in r1]\n",
    " \n",
    "plt.figure(figsize=(6,6))\n",
    "# Make the plot\n",
    "plt.bar(r1, compare1['in_papers'], color='#7f6d5f', width=barWidth, edgecolor='white', label='In Research')\n",
    "plt.bar(r2, compare1['in_news'], color='#557f2d', width=barWidth, edgecolor='white', label='In News')\n",
    " \n",
    "# Add xticks on the middle of the group bars\n",
    "plt.xlabel('Domain', fontweight='bold')\n",
    "plt.xticks([r for r in range(len(compare1['in_papers']))], [compare1['domain'][0], compare1['domain'][1], \n",
    "                                                                      compare1['domain'][2], compare1['domain'][3],\n",
    "                                                                      compare1['domain'][4], compare1['domain'][5],\n",
    "                                                                      compare1['domain'][6], compare1['domain'][7],\n",
    "                                                                      compare1['domain'][8], compare1['domain'][9],\n",
    "                                                                      compare1['domain'][10], compare1['domain'][11]], rotation=90)\n",
    " \n",
    "# Create legend & Show graphic\n",
    "plt.legend()\n",
    "plt.show()\n"
   ]
  },
  {
   "cell_type": "code",
   "execution_count": 75,
   "metadata": {},
   "outputs": [],
   "source": [
    "newsdomains = news[['domain','year']]"
   ]
  },
  {
   "cell_type": "code",
   "execution_count": 76,
   "metadata": {},
   "outputs": [],
   "source": [
    "newsdomains = newsdomains.fillna(2011)"
   ]
  },
  {
   "cell_type": "code",
   "execution_count": 77,
   "metadata": {},
   "outputs": [],
   "source": [
    "newsdomains['year'] = newsdomains['year'].astype(int)"
   ]
  },
  {
   "cell_type": "code",
   "execution_count": 86,
   "metadata": {},
   "outputs": [
    {
     "data": {
      "text/plain": [
       "[2000,\n",
       " 2003,\n",
       " 2004,\n",
       " 2005,\n",
       " 2007,\n",
       " 2008,\n",
       " 2009,\n",
       " 2010,\n",
       " 2011,\n",
       " 2012,\n",
       " 2013,\n",
       " 2014,\n",
       " 2015,\n",
       " 2016,\n",
       " 2017]"
      ]
     },
     "execution_count": 86,
     "metadata": {},
     "output_type": "execute_result"
    }
   ],
   "source": [
    "sorted(newsdomains.year.unique())"
   ]
  },
  {
   "cell_type": "code",
   "execution_count": 80,
   "metadata": {},
   "outputs": [
    {
     "data": {
      "text/html": [
       "<div>\n",
       "<style scoped>\n",
       "    .dataframe tbody tr th:only-of-type {\n",
       "        vertical-align: middle;\n",
       "    }\n",
       "\n",
       "    .dataframe tbody tr th {\n",
       "        vertical-align: top;\n",
       "    }\n",
       "\n",
       "    .dataframe thead th {\n",
       "        text-align: right;\n",
       "    }\n",
       "</style>\n",
       "<table border=\"1\" class=\"dataframe\">\n",
       "  <thead>\n",
       "    <tr style=\"text-align: right;\">\n",
       "      <th></th>\n",
       "      <th>abstract</th>\n",
       "      <th>authors</th>\n",
       "      <th>id</th>\n",
       "      <th>n_citation</th>\n",
       "      <th>references</th>\n",
       "      <th>title</th>\n",
       "      <th>venue</th>\n",
       "      <th>year</th>\n",
       "      <th>text</th>\n",
       "      <th>domain</th>\n",
       "    </tr>\n",
       "  </thead>\n",
       "  <tbody>\n",
       "    <tr>\n",
       "      <th>0</th>\n",
       "      <td>The purpose of this study is to develop a lear...</td>\n",
       "      <td>[Makoto Satoh, Ryo Muramatsu, Mizue Kayama, Ka...</td>\n",
       "      <td>00127ee2-cb05-48ce-bc49-9de556b93346</td>\n",
       "      <td>0</td>\n",
       "      <td>[51c7e02e-f5ed-431a-8cf5-f761f266d4be, 69b625b...</td>\n",
       "      <td>Preliminary Design of a Network Protocol Learn...</td>\n",
       "      <td>international conference on human-computer int...</td>\n",
       "      <td>2013</td>\n",
       "      <td>The purpose of this study is to develop a lear...</td>\n",
       "      <td>communication and security</td>\n",
       "    </tr>\n",
       "    <tr>\n",
       "      <th>1</th>\n",
       "      <td>This paper describes the design and implementa...</td>\n",
       "      <td>[Gareth Beale, Graeme Earl]</td>\n",
       "      <td>001c58d3-26ad-46b3-ab3a-c1e557d16821</td>\n",
       "      <td>50</td>\n",
       "      <td>[10482dd3-4642-4193-842f-85f3b70fcf65, 3133714...</td>\n",
       "      <td>A methodology for the physically accurate visu...</td>\n",
       "      <td>visual analytics science and technology</td>\n",
       "      <td>2011</td>\n",
       "      <td>This paper describes the design and implementa...</td>\n",
       "      <td>computer graphics</td>\n",
       "    </tr>\n",
       "    <tr>\n",
       "      <th>2</th>\n",
       "      <td>This article applied GARCH model instead AR or...</td>\n",
       "      <td>[Altaf Hossain, Faisal Zaman, Mohammed Nasser,...</td>\n",
       "      <td>001c8744-73c4-4b04-9364-22d31a10dbf1</td>\n",
       "      <td>50</td>\n",
       "      <td>[2d84c0f2-e656-4ce7-b018-90eda1c132fe, a083a1b...</td>\n",
       "      <td>Comparison of GARCH, Neural Network and Suppor...</td>\n",
       "      <td>pattern recognition and machine intelligence</td>\n",
       "      <td>2009</td>\n",
       "      <td>This article applied GARCH model instead AR or...</td>\n",
       "      <td>artificial intelligence</td>\n",
       "    </tr>\n",
       "    <tr>\n",
       "      <th>10</th>\n",
       "      <td>Recent achievements in Natural Language Proces...</td>\n",
       "      <td>[Ankita Brahmachari, Priya Singh, Avdhesh Garg...</td>\n",
       "      <td>00a119c4-d367-4607-b3c8-b237f2971bff</td>\n",
       "      <td>0</td>\n",
       "      <td>[84d47128-58d0-4187-aa44-389fde7d5c83, e0dce69...</td>\n",
       "      <td>Identifying Psychological Theme Words from Emo...</td>\n",
       "      <td></td>\n",
       "      <td>2013</td>\n",
       "      <td>Recent achievements in Natural Language Proces...</td>\n",
       "      <td>artificial intelligence</td>\n",
       "    </tr>\n",
       "    <tr>\n",
       "      <th>12</th>\n",
       "      <td>Recently, Bridges and Reich introduced the con...</td>\n",
       "      <td>[Alvaro L. Islas, Constance M. Schober]</td>\n",
       "      <td>00bcf2d5-1592-46b0-81fd-933f90b5ecca</td>\n",
       "      <td>50</td>\n",
       "      <td>[]</td>\n",
       "      <td>Multisymplectic Spectral Methods for the Gross...</td>\n",
       "      <td>international conference on conceptual structures</td>\n",
       "      <td>2002</td>\n",
       "      <td>Recently, Bridges and Reich introduced the con...</td>\n",
       "      <td>algorithms and data structures</td>\n",
       "    </tr>\n",
       "  </tbody>\n",
       "</table>\n",
       "</div>"
      ],
      "text/plain": [
       "                                             abstract  \\\n",
       "0   The purpose of this study is to develop a lear...   \n",
       "1   This paper describes the design and implementa...   \n",
       "2   This article applied GARCH model instead AR or...   \n",
       "10  Recent achievements in Natural Language Proces...   \n",
       "12  Recently, Bridges and Reich introduced the con...   \n",
       "\n",
       "                                              authors  \\\n",
       "0   [Makoto Satoh, Ryo Muramatsu, Mizue Kayama, Ka...   \n",
       "1                         [Gareth Beale, Graeme Earl]   \n",
       "2   [Altaf Hossain, Faisal Zaman, Mohammed Nasser,...   \n",
       "10  [Ankita Brahmachari, Priya Singh, Avdhesh Garg...   \n",
       "12            [Alvaro L. Islas, Constance M. Schober]   \n",
       "\n",
       "                                      id  n_citation  \\\n",
       "0   00127ee2-cb05-48ce-bc49-9de556b93346           0   \n",
       "1   001c58d3-26ad-46b3-ab3a-c1e557d16821          50   \n",
       "2   001c8744-73c4-4b04-9364-22d31a10dbf1          50   \n",
       "10  00a119c4-d367-4607-b3c8-b237f2971bff           0   \n",
       "12  00bcf2d5-1592-46b0-81fd-933f90b5ecca          50   \n",
       "\n",
       "                                           references  \\\n",
       "0   [51c7e02e-f5ed-431a-8cf5-f761f266d4be, 69b625b...   \n",
       "1   [10482dd3-4642-4193-842f-85f3b70fcf65, 3133714...   \n",
       "2   [2d84c0f2-e656-4ce7-b018-90eda1c132fe, a083a1b...   \n",
       "10  [84d47128-58d0-4187-aa44-389fde7d5c83, e0dce69...   \n",
       "12                                                 []   \n",
       "\n",
       "                                                title  \\\n",
       "0   Preliminary Design of a Network Protocol Learn...   \n",
       "1   A methodology for the physically accurate visu...   \n",
       "2   Comparison of GARCH, Neural Network and Suppor...   \n",
       "10  Identifying Psychological Theme Words from Emo...   \n",
       "12  Multisymplectic Spectral Methods for the Gross...   \n",
       "\n",
       "                                                venue  year  \\\n",
       "0   international conference on human-computer int...  2013   \n",
       "1             visual analytics science and technology  2011   \n",
       "2        pattern recognition and machine intelligence  2009   \n",
       "10                                                     2013   \n",
       "12  international conference on conceptual structures  2002   \n",
       "\n",
       "                                                 text  \\\n",
       "0   The purpose of this study is to develop a lear...   \n",
       "1   This paper describes the design and implementa...   \n",
       "2   This article applied GARCH model instead AR or...   \n",
       "10  Recent achievements in Natural Language Proces...   \n",
       "12  Recently, Bridges and Reich introduced the con...   \n",
       "\n",
       "                            domain  \n",
       "0       communication and security  \n",
       "1                computer graphics  \n",
       "2          artificial intelligence  \n",
       "10         artificial intelligence  \n",
       "12  algorithms and data structures  "
      ]
     },
     "execution_count": 80,
     "metadata": {},
     "output_type": "execute_result"
    }
   ],
   "source": [
    "df.head()"
   ]
  },
  {
   "cell_type": "code",
   "execution_count": 81,
   "metadata": {},
   "outputs": [],
   "source": [
    "dfdomains = df[['year','domain']]"
   ]
  },
  {
   "cell_type": "code",
   "execution_count": 89,
   "metadata": {},
   "outputs": [],
   "source": [
    "df_1 = dfdomains[(dfdomains['year'] >= 2000) & (dfdomains['year'] <= 2001)]\n",
    "df_2 = dfdomains[(dfdomains['year'] >= 2002) & (dfdomains['year'] <= 2003)]\n",
    "df_3 = dfdomains[(dfdomains['year'] >= 2004) & (dfdomains['year'] <= 2005)]\n",
    "df_4 = dfdomains[(dfdomains['year'] >= 2006) & (dfdomains['year'] <= 2007)]\n",
    "df_5 = dfdomains[(dfdomains['year'] >= 2008) & (dfdomains['year'] <= 2009)]\n",
    "df_6 = dfdomains[(dfdomains['year'] >= 2010) & (dfdomains['year'] <= 2011)]\n",
    "df_7 = dfdomains[(dfdomains['year'] >= 2012) & (dfdomains['year'] <= 2013)]\n",
    "df_8 = dfdomains[(dfdomains['year'] >= 2014) & (dfdomains['year'] <= 2015)]\n",
    "df_9 = dfdomains[(dfdomains['year'] >= 2016) & (dfdomains['year'] <= 2017)]"
   ]
  },
  {
   "cell_type": "code",
   "execution_count": 116,
   "metadata": {},
   "outputs": [
    {
     "data": {
      "text/html": [
       "<div>\n",
       "<style scoped>\n",
       "    .dataframe tbody tr th:only-of-type {\n",
       "        vertical-align: middle;\n",
       "    }\n",
       "\n",
       "    .dataframe tbody tr th {\n",
       "        vertical-align: top;\n",
       "    }\n",
       "\n",
       "    .dataframe thead th {\n",
       "        text-align: right;\n",
       "    }\n",
       "</style>\n",
       "<table border=\"1\" class=\"dataframe\">\n",
       "  <thead>\n",
       "    <tr style=\"text-align: right;\">\n",
       "      <th></th>\n",
       "      <th>year</th>\n",
       "      <th>domain</th>\n",
       "    </tr>\n",
       "  </thead>\n",
       "  <tbody>\n",
       "    <tr>\n",
       "      <th>35</th>\n",
       "      <td>2000</td>\n",
       "      <td>algorithms and data structures</td>\n",
       "    </tr>\n",
       "    <tr>\n",
       "      <th>147</th>\n",
       "      <td>2001</td>\n",
       "      <td>artificial intelligence</td>\n",
       "    </tr>\n",
       "    <tr>\n",
       "      <th>157</th>\n",
       "      <td>2001</td>\n",
       "      <td>artificial intelligence</td>\n",
       "    </tr>\n",
       "    <tr>\n",
       "      <th>177</th>\n",
       "      <td>2000</td>\n",
       "      <td>artificial intelligence</td>\n",
       "    </tr>\n",
       "    <tr>\n",
       "      <th>188</th>\n",
       "      <td>2001</td>\n",
       "      <td>algorithms and data structures</td>\n",
       "    </tr>\n",
       "  </tbody>\n",
       "</table>\n",
       "</div>"
      ],
      "text/plain": [
       "     year                          domain\n",
       "35   2000  algorithms and data structures\n",
       "147  2001         artificial intelligence\n",
       "157  2001         artificial intelligence\n",
       "177  2000         artificial intelligence\n",
       "188  2001  algorithms and data structures"
      ]
     },
     "execution_count": 116,
     "metadata": {},
     "output_type": "execute_result"
    }
   ],
   "source": [
    "df_1.head()"
   ]
  },
  {
   "cell_type": "code",
   "execution_count": 117,
   "metadata": {},
   "outputs": [],
   "source": [
    "c1 = collections.defaultdict(int)\n",
    "for index, row in df_1.iterrows():\n",
    "    c1[row['domain']] += 1\n",
    "c1 = pd.DataFrame.from_dict(c1, orient = 'index').reset_index()\n",
    "c1 = c1.rename(columns={'index': 'domain', 0: 'frequency'})\n",
    "c1 = c1.sort_values(by=['frequency'], ascending = False)\n",
    "c1['year'] = '2000-2001'"
   ]
  },
  {
   "cell_type": "code",
   "execution_count": 119,
   "metadata": {},
   "outputs": [],
   "source": [
    "c2 = collections.defaultdict(int)\n",
    "for index, row in df_2.iterrows():\n",
    "    c2[row['domain']] += 1\n",
    "c2 = pd.DataFrame.from_dict(c2, orient = 'index').reset_index()\n",
    "c2 = c2.rename(columns={'index': 'domain', 0: 'frequency'})\n",
    "c2 = c2.sort_values(by=['frequency'], ascending = False)\n",
    "c2['year'] = '2002-2003'"
   ]
  },
  {
   "cell_type": "code",
   "execution_count": 121,
   "metadata": {},
   "outputs": [],
   "source": [
    "c3 = collections.defaultdict(int)\n",
    "for index, row in df_3.iterrows():\n",
    "    c3[row['domain']] += 1\n",
    "c3 = pd.DataFrame.from_dict(c3, orient = 'index').reset_index()\n",
    "c3 = c3.rename(columns={'index': 'domain', 0: 'frequency'})\n",
    "c3 = c3.sort_values(by=['frequency'], ascending = False)\n",
    "c3['year'] = '2004-2005'"
   ]
  },
  {
   "cell_type": "code",
   "execution_count": 122,
   "metadata": {},
   "outputs": [],
   "source": [
    "c4 = collections.defaultdict(int)\n",
    "for index, row in df_4.iterrows():\n",
    "    c4[row['domain']] += 1\n",
    "c4 = pd.DataFrame.from_dict(c4, orient = 'index').reset_index()\n",
    "c4 = c4.rename(columns={'index': 'domain', 0: 'frequency'})\n",
    "c4 = c4.sort_values(by=['frequency'], ascending = False)\n",
    "c4['year'] = '2006-2007'"
   ]
  },
  {
   "cell_type": "code",
   "execution_count": 123,
   "metadata": {},
   "outputs": [],
   "source": [
    "c5 = collections.defaultdict(int)\n",
    "for index, row in df_5.iterrows():\n",
    "    c5[row['domain']] += 1\n",
    "c5 = pd.DataFrame.from_dict(c5, orient = 'index').reset_index()\n",
    "c5 = c5.rename(columns={'index': 'domain', 0: 'frequency'})\n",
    "c5 = c5.sort_values(by=['frequency'], ascending = False)\n",
    "c5['year'] = '2008-2009'"
   ]
  },
  {
   "cell_type": "code",
   "execution_count": 124,
   "metadata": {},
   "outputs": [],
   "source": [
    "c6 = collections.defaultdict(int)\n",
    "for index, row in df_6.iterrows():\n",
    "    c6[row['domain']] += 1\n",
    "c6 = pd.DataFrame.from_dict(c6, orient = 'index').reset_index()\n",
    "c6 = c6.rename(columns={'index': 'domain', 0: 'frequency'})\n",
    "c6 = c6.sort_values(by=['frequency'], ascending = False)\n",
    "c6['year'] = '2010-2011'"
   ]
  },
  {
   "cell_type": "code",
   "execution_count": 125,
   "metadata": {},
   "outputs": [],
   "source": [
    "c7 = collections.defaultdict(int)\n",
    "for index, row in df_7.iterrows():\n",
    "    c7[row['domain']] += 1\n",
    "c7 = pd.DataFrame.from_dict(c7, orient = 'index').reset_index()\n",
    "c7 = c7.rename(columns={'index': 'domain', 0: 'frequency'})\n",
    "c7 = c7.sort_values(by=['frequency'], ascending = False)\n",
    "c7['year'] = '2012-2013'"
   ]
  },
  {
   "cell_type": "code",
   "execution_count": 126,
   "metadata": {},
   "outputs": [],
   "source": [
    "c8 = collections.defaultdict(int)\n",
    "for index, row in df_8.iterrows():\n",
    "    c8[row['domain']] += 1\n",
    "c8 = pd.DataFrame.from_dict(c8, orient = 'index').reset_index()\n",
    "c8 = c8.rename(columns={'index': 'domain', 0: 'frequency'})\n",
    "c8 = c8.sort_values(by=['frequency'], ascending = False)\n",
    "c8['year'] = '2014-2015'"
   ]
  },
  {
   "cell_type": "code",
   "execution_count": 127,
   "metadata": {},
   "outputs": [],
   "source": [
    "c9 = collections.defaultdict(int)\n",
    "for index, row in df_9.iterrows():\n",
    "    c9[row['domain']] += 1\n",
    "c9 = pd.DataFrame.from_dict(c9, orient = 'index').reset_index()\n",
    "c9 = c9.rename(columns={'index': 'domain', 0: 'frequency'})\n",
    "c9 = c9.sort_values(by=['frequency'], ascending = False)\n",
    "c9['year'] = '2016-2017'"
   ]
  },
  {
   "cell_type": "code",
   "execution_count": 143,
   "metadata": {},
   "outputs": [],
   "source": [
    "news_1 = newsdomains[(newsdomains['year'] >= 2000) & (newsdomains['year'] <= 2001)]\n",
    "news_2 = newsdomains[(newsdomains['year'] >= 2002) & (newsdomains['year'] <= 2003)]\n",
    "news_3 = newsdomains[(newsdomains['year'] >= 2004) & (newsdomains['year'] <= 2005)]\n",
    "news_4 = newsdomains[(newsdomains['year'] >= 2006) & (newsdomains['year'] <= 2007)]\n",
    "news_5 = newsdomains[(newsdomains['year'] >= 2008) & (newsdomains['year'] <= 2009)]\n",
    "news_6 = newsdomains[(newsdomains['year'] >= 2010) & (newsdomains['year'] <= 2011)]\n",
    "news_7 = newsdomains[(newsdomains['year'] >= 2012) & (newsdomains['year'] <= 2013)]\n",
    "news_8 = newsdomains[(newsdomains['year'] >= 2014) & (newsdomains['year'] <= 2015)]\n",
    "news_9 = newsdomains[(newsdomains['year'] >= 2016) & (newsdomains['year'] <= 2017)]"
   ]
  },
  {
   "cell_type": "code",
   "execution_count": 128,
   "metadata": {},
   "outputs": [],
   "source": [
    "d1 = collections.defaultdict(int)\n",
    "for index, row in news_1.iterrows():\n",
    "    d1[row['domain']] += 1\n",
    "d1 = pd.DataFrame.from_dict(d1, orient = 'index').reset_index()\n",
    "d1 = d1.rename(columns={'index': 'domain', 0: 'frequency'})\n",
    "d1 = d1.sort_values(by=['frequency'], ascending = False)\n",
    "d1['year'] = '2000-2001'"
   ]
  },
  {
   "cell_type": "code",
   "execution_count": 129,
   "metadata": {},
   "outputs": [],
   "source": [
    "d2 = collections.defaultdict(int)\n",
    "for index, row in news_2.iterrows():\n",
    "    d2[row['domain']] += 1\n",
    "d2 = pd.DataFrame.from_dict(d2, orient = 'index').reset_index()\n",
    "d2 = d2.rename(columns={'index': 'domain', 0: 'frequency'})\n",
    "d2 = d2.sort_values(by=['frequency'], ascending = False)\n",
    "d2['year'] = '2002-2003'"
   ]
  },
  {
   "cell_type": "code",
   "execution_count": 130,
   "metadata": {},
   "outputs": [],
   "source": [
    "d3 = collections.defaultdict(int)\n",
    "for index, row in news_3.iterrows():\n",
    "    d3[row['domain']] += 1\n",
    "d3 = pd.DataFrame.from_dict(d3, orient = 'index').reset_index()\n",
    "d3 = d3.rename(columns={'index': 'domain', 0: 'frequency'})\n",
    "d3 = d3.sort_values(by=['frequency'], ascending = False)\n",
    "d3['year'] = '2004-2005'"
   ]
  },
  {
   "cell_type": "code",
   "execution_count": 131,
   "metadata": {},
   "outputs": [],
   "source": [
    "d4 = collections.defaultdict(int)\n",
    "for index, row in news_4.iterrows():\n",
    "    d4[row['domain']] += 1\n",
    "d4 = pd.DataFrame.from_dict(d4, orient = 'index').reset_index()\n",
    "d4 = d4.rename(columns={'index': 'domain', 0: 'frequency'})\n",
    "d4 = d4.sort_values(by=['frequency'], ascending = False)\n",
    "d4['year'] = '2006-2007'"
   ]
  },
  {
   "cell_type": "code",
   "execution_count": 132,
   "metadata": {},
   "outputs": [],
   "source": [
    "d5 = collections.defaultdict(int)\n",
    "for index, row in news_5.iterrows():\n",
    "    d5[row['domain']] += 1\n",
    "d5 = pd.DataFrame.from_dict(d5, orient = 'index').reset_index()\n",
    "d5 = d5.rename(columns={'index': 'domain', 0: 'frequency'})\n",
    "d5 = d5.sort_values(by=['frequency'], ascending = False)\n",
    "d5['year'] = '2008-2009'"
   ]
  },
  {
   "cell_type": "code",
   "execution_count": 133,
   "metadata": {},
   "outputs": [],
   "source": [
    "d6 = collections.defaultdict(int)\n",
    "for index, row in news_6.iterrows():\n",
    "    d6[row['domain']] += 1\n",
    "d6 = pd.DataFrame.from_dict(d6, orient = 'index').reset_index()\n",
    "d6 = d6.rename(columns={'index': 'domain', 0: 'frequency'})\n",
    "d6 = d6.sort_values(by=['frequency'], ascending = False)\n",
    "d6['year'] = '2010-2011'"
   ]
  },
  {
   "cell_type": "code",
   "execution_count": 134,
   "metadata": {},
   "outputs": [],
   "source": [
    "d7 = collections.defaultdict(int)\n",
    "for index, row in news_7.iterrows():\n",
    "    d7[row['domain']] += 1\n",
    "d7 = pd.DataFrame.from_dict(d7, orient = 'index').reset_index()\n",
    "d7 = d7.rename(columns={'index': 'domain', 0: 'frequency'})\n",
    "d7 = d7.sort_values(by=['frequency'], ascending = False)\n",
    "d7['year'] = '2012-2013'"
   ]
  },
  {
   "cell_type": "code",
   "execution_count": 135,
   "metadata": {},
   "outputs": [],
   "source": [
    "d8 = collections.defaultdict(int)\n",
    "for index, row in news_8.iterrows():\n",
    "    d8[row['domain']] += 1\n",
    "d8 = pd.DataFrame.from_dict(d8, orient = 'index').reset_index()\n",
    "d8 = d8.rename(columns={'index': 'domain', 0: 'frequency'})\n",
    "d8 = d8.sort_values(by=['frequency'], ascending = False)\n",
    "d8['year'] = '2014-2015'"
   ]
  },
  {
   "cell_type": "code",
   "execution_count": 136,
   "metadata": {},
   "outputs": [],
   "source": [
    "d9 = collections.defaultdict(int)\n",
    "for index, row in news_9.iterrows():\n",
    "    d9[row['domain']] += 1\n",
    "d9 = pd.DataFrame.from_dict(d9, orient = 'index').reset_index()\n",
    "d9 = d9.rename(columns={'index': 'domain', 0: 'frequency'})\n",
    "d9 = d9.sort_values(by=['frequency'], ascending = False)\n",
    "d9['year'] = '2016-2017'"
   ]
  },
  {
   "cell_type": "code",
   "execution_count": 146,
   "metadata": {},
   "outputs": [],
   "source": [
    "tobemerged1 = [c1,c2,c3,c4,c5,c6,c7,c8,c9]\n",
    "tobemerged2 = [d1,d2,d3,d4,d5,d6,d7,d8,d9]"
   ]
  },
  {
   "cell_type": "code",
   "execution_count": 147,
   "metadata": {},
   "outputs": [],
   "source": [
    "freqinpapers = pd.concat(tobemerged1)\n",
    "freqinnews = pd.concat(tobemerged2)"
   ]
  },
  {
   "cell_type": "code",
   "execution_count": 311,
   "metadata": {},
   "outputs": [],
   "source": [
    "aipaper = freqinpapers[freqinpapers['domain']=='artificial intelligence']\n",
    "ainews = freqinnews[freqinnews['domain']=='artificial intelligence']\n",
    "ai = pd.merge(aipaper, ainews, on='year')\n",
    "ai = ai.rename(columns={'frequency_x': 'In Papers', 'frequency_y': 'In News'})\n",
    "ai = ai.drop(columns={'domain_x','domain_y'}, axis=1)"
   ]
  },
  {
   "cell_type": "code",
   "execution_count": 312,
   "metadata": {},
   "outputs": [
    {
     "data": {
      "text/html": [
       "<div>\n",
       "<style scoped>\n",
       "    .dataframe tbody tr th:only-of-type {\n",
       "        vertical-align: middle;\n",
       "    }\n",
       "\n",
       "    .dataframe tbody tr th {\n",
       "        vertical-align: top;\n",
       "    }\n",
       "\n",
       "    .dataframe thead th {\n",
       "        text-align: right;\n",
       "    }\n",
       "</style>\n",
       "<table border=\"1\" class=\"dataframe\">\n",
       "  <thead>\n",
       "    <tr style=\"text-align: right;\">\n",
       "      <th></th>\n",
       "      <th>In Papers</th>\n",
       "      <th>year</th>\n",
       "      <th>In News</th>\n",
       "    </tr>\n",
       "  </thead>\n",
       "  <tbody>\n",
       "    <tr>\n",
       "      <th>0</th>\n",
       "      <td>9861</td>\n",
       "      <td>2000-2001</td>\n",
       "      <td>1</td>\n",
       "    </tr>\n",
       "    <tr>\n",
       "      <th>1</th>\n",
       "      <td>13553</td>\n",
       "      <td>2002-2003</td>\n",
       "      <td>2</td>\n",
       "    </tr>\n",
       "    <tr>\n",
       "      <th>2</th>\n",
       "      <td>23494</td>\n",
       "      <td>2006-2007</td>\n",
       "      <td>1</td>\n",
       "    </tr>\n",
       "    <tr>\n",
       "      <th>3</th>\n",
       "      <td>24860</td>\n",
       "      <td>2008-2009</td>\n",
       "      <td>4</td>\n",
       "    </tr>\n",
       "    <tr>\n",
       "      <th>4</th>\n",
       "      <td>32458</td>\n",
       "      <td>2010-2011</td>\n",
       "      <td>1456</td>\n",
       "    </tr>\n",
       "    <tr>\n",
       "      <th>5</th>\n",
       "      <td>37589</td>\n",
       "      <td>2012-2013</td>\n",
       "      <td>205</td>\n",
       "    </tr>\n",
       "    <tr>\n",
       "      <th>6</th>\n",
       "      <td>41099</td>\n",
       "      <td>2014-2015</td>\n",
       "      <td>2500</td>\n",
       "    </tr>\n",
       "    <tr>\n",
       "      <th>7</th>\n",
       "      <td>3716</td>\n",
       "      <td>2016-2017</td>\n",
       "      <td>73962</td>\n",
       "    </tr>\n",
       "  </tbody>\n",
       "</table>\n",
       "</div>"
      ],
      "text/plain": [
       "   In Papers       year  In News\n",
       "0       9861  2000-2001        1\n",
       "1      13553  2002-2003        2\n",
       "2      23494  2006-2007        1\n",
       "3      24860  2008-2009        4\n",
       "4      32458  2010-2011     1456\n",
       "5      37589  2012-2013      205\n",
       "6      41099  2014-2015     2500\n",
       "7       3716  2016-2017    73962"
      ]
     },
     "execution_count": 312,
     "metadata": {},
     "output_type": "execute_result"
    }
   ],
   "source": [
    "ai"
   ]
  },
  {
   "cell_type": "code",
   "execution_count": 314,
   "metadata": {},
   "outputs": [
    {
     "data": {
      "image/png": "[encoded data removed]",
      "text/plain": [
       "<Figure size 576x576 with 1 Axes>"
      ]
     },
     "metadata": {},
     "output_type": "display_data"
    }
   ],
   "source": [
    "ai.plot(x=\"year\", y=[\"In News\", \"In Papers\"], figsize = (8,8))\n",
    "plt.xticks([0,1,2,3,4,5,6],[\"2000-2001\", \"2002-2003\", \"2006-2007\", \"2008-2009\", \"2010-2011\", \"2012-2013\", \"2014-2015\"], rotation = 45)\n",
    "plt.show()"
   ]
  },
  {
   "cell_type": "markdown",
   "metadata": {},
   "source": [
    "    Fig: Comparing yearly trend of Artificial Intelligence \n",
    "                in News Articles and Research Work"
   ]
  },
  {
   "cell_type": "code",
   "execution_count": 316,
   "metadata": {},
   "outputs": [
    {
     "data": {
      "text/plain": [
       "(0.79983340254912749, 0.030810564928973227)"
      ]
     },
     "execution_count": 316,
     "metadata": {},
     "output_type": "execute_result"
    }
   ],
   "source": [
    "from scipy import stats\n",
    "stats.pearsonr(ai['In News'], ai['In Papers'])"
   ]
  },
  {
   "cell_type": "code",
   "execution_count": 317,
   "metadata": {},
   "outputs": [],
   "source": [
    "cnspaper = freqinpapers[freqinpapers['domain']=='communication and security']\n",
    "cnsnews = freqinnews[freqinnews['domain']=='communication and security']\n",
    "cns = pd.merge(cnspaper, cnsnews, on='year')\n",
    "cns = cns.rename(columns={'frequency_x': 'In Papers', 'frequency_y': 'In News'})\n",
    "cns = cns.drop(columns={'domain_x','domain_y'}, axis=1)"
   ]
  },
  {
   "cell_type": "code",
   "execution_count": 367,
   "metadata": {},
   "outputs": [
    {
     "data": {
      "text/plain": [
       "(0.95708211511344277, 0.010604142638071754)"
      ]
     },
     "execution_count": 367,
     "metadata": {},
     "output_type": "execute_result"
    }
   ],
   "source": [
    "from scipy import stats\n",
    "stats.pearsonr(cns['In News'], cns['In Papers'])"
   ]
  },
  {
   "cell_type": "code",
   "execution_count": 368,
   "metadata": {},
   "outputs": [
    {
     "data": {
      "image/png": "[encoded data removed]",
      "text/plain": [
       "<Figure size 576x576 with 1 Axes>"
      ]
     },
     "metadata": {},
     "output_type": "display_data"
    }
   ],
   "source": [
    "cns.plot(x=\"year\", y=[\"In News\", \"In Papers\"], figsize = (8,8))\n",
    "plt.xticks([0,1,2,3,4],['2004-2005', '2010-2011', '2012-2013', '2014-2015', '2016-2017'], rotation = 45)\n",
    "plt.show()"
   ]
  },
  {
   "cell_type": "code",
   "execution_count": 231,
   "metadata": {},
   "outputs": [
    {
     "data": {
      "text/plain": [
       "array(['2004-2005', '2010-2011', '2012-2013', '2014-2015', '2016-2017'], dtype=object)"
      ]
     },
     "execution_count": 231,
     "metadata": {},
     "output_type": "execute_result"
    }
   ],
   "source": [
    "cns.year.unique()"
   ]
  },
  {
   "cell_type": "code",
   "execution_count": 359,
   "metadata": {},
   "outputs": [],
   "source": [
    "adspaper = freqinpapers[freqinpapers['domain']=='algorithms and data structures']\n",
    "adsnews = freqinnews[freqinnews['domain']=='algorithms and data structures']\n",
    "ads = pd.merge(adspaper, adsnews, on='year')\n",
    "ads = ads.rename(columns={'frequency_x': 'In Papers', 'frequency_y': 'In News'})\n",
    "ads = ads.drop(columns={'domain_x','domain_y'}, axis=1)"
   ]
  },
  {
   "cell_type": "code",
   "execution_count": 266,
   "metadata": {},
   "outputs": [
    {
     "data": {
      "text/plain": [
       "(-0.80119074123485456, 0.05535870201495955)"
      ]
     },
     "execution_count": 266,
     "metadata": {},
     "output_type": "execute_result"
    }
   ],
   "source": [
    "from scipy import stats\n",
    "stats.pearsonr(ads['In News'], ads['In Papers'])"
   ]
  },
  {
   "cell_type": "code",
   "execution_count": 233,
   "metadata": {},
   "outputs": [],
   "source": [
    "cgpaper = freqinpapers[freqinpapers['domain']=='computer graphics']\n",
    "cgnews = freqinnews[freqinnews['domain']=='computer graphics']\n",
    "cg = pd.merge(cgpaper, cgnews, on='year')\n",
    "cg = cg.rename(columns={'frequency_x': 'In Papers', 'frequency_y': 'In News'})\n",
    "cg = cg.drop(columns={'domain_x','domain_y'}, axis=1)"
   ]
  },
  {
   "cell_type": "code",
   "execution_count": 267,
   "metadata": {},
   "outputs": [
    {
     "data": {
      "text/plain": [
       "(-0.98405825286990001, 0.015941747130099996)"
      ]
     },
     "execution_count": 267,
     "metadata": {},
     "output_type": "execute_result"
    }
   ],
   "source": [
    "from scipy import stats\n",
    "stats.pearsonr(cg['In News'], cg['In Papers'])"
   ]
  },
  {
   "cell_type": "code",
   "execution_count": 269,
   "metadata": {},
   "outputs": [],
   "source": [
    "sfpaper = freqinpapers[freqinpapers['domain']=='software engineering']\n",
    "sfnews = freqinnews[freqinnews['domain']=='software engineering']\n",
    "sf = pd.merge(sfpaper, sfnews, on='year')\n",
    "sf = sf.rename(columns={'frequency_x': 'In Papers', 'frequency_y': 'In News'})\n",
    "sf = sf.drop(columns={'domain_x','domain_y'}, axis=1)"
   ]
  },
  {
   "cell_type": "code",
   "execution_count": 270,
   "metadata": {},
   "outputs": [
    {
     "data": {
      "text/plain": [
       "(-0.99950260145768965, 0.020080077191665886)"
      ]
     },
     "execution_count": 270,
     "metadata": {},
     "output_type": "execute_result"
    }
   ],
   "source": [
    "from scipy import stats\n",
    "stats.pearsonr(sf['In News'], sf['In Papers'])"
   ]
  },
  {
   "cell_type": "code",
   "execution_count": 215,
   "metadata": {},
   "outputs": [
    {
     "data": {
      "text/html": [
       "<div>\n",
       "<style scoped>\n",
       "    .dataframe tbody tr th:only-of-type {\n",
       "        vertical-align: middle;\n",
       "    }\n",
       "\n",
       "    .dataframe tbody tr th {\n",
       "        vertical-align: top;\n",
       "    }\n",
       "\n",
       "    .dataframe thead th {\n",
       "        text-align: right;\n",
       "    }\n",
       "</style>\n",
       "<table border=\"1\" class=\"dataframe\">\n",
       "  <thead>\n",
       "    <tr style=\"text-align: right;\">\n",
       "      <th></th>\n",
       "      <th>In Papers</th>\n",
       "      <th>year</th>\n",
       "      <th>In News</th>\n",
       "    </tr>\n",
       "  </thead>\n",
       "  <tbody>\n",
       "    <tr>\n",
       "      <th>0</th>\n",
       "      <td>9861</td>\n",
       "      <td>2000-2001</td>\n",
       "      <td>3473</td>\n",
       "    </tr>\n",
       "    <tr>\n",
       "      <th>1</th>\n",
       "      <td>13553</td>\n",
       "      <td>2002-2003</td>\n",
       "      <td>5325</td>\n",
       "    </tr>\n",
       "    <tr>\n",
       "      <th>2</th>\n",
       "      <td>23494</td>\n",
       "      <td>2006-2007</td>\n",
       "      <td>9463</td>\n",
       "    </tr>\n",
       "    <tr>\n",
       "      <th>3</th>\n",
       "      <td>24860</td>\n",
       "      <td>2008-2009</td>\n",
       "      <td>11356</td>\n",
       "    </tr>\n",
       "    <tr>\n",
       "      <th>4</th>\n",
       "      <td>32458</td>\n",
       "      <td>2010-2011</td>\n",
       "      <td>20736</td>\n",
       "    </tr>\n",
       "    <tr>\n",
       "      <th>5</th>\n",
       "      <td>37589</td>\n",
       "      <td>2012-2013</td>\n",
       "      <td>21982</td>\n",
       "    </tr>\n",
       "    <tr>\n",
       "      <th>6</th>\n",
       "      <td>41099</td>\n",
       "      <td>2014-2015</td>\n",
       "      <td>24758</td>\n",
       "    </tr>\n",
       "  </tbody>\n",
       "</table>\n",
       "</div>"
      ],
      "text/plain": [
       "   In Papers       year  In News\n",
       "0       9861  2000-2001     3473\n",
       "1      13553  2002-2003     5325\n",
       "2      23494  2006-2007     9463\n",
       "3      24860  2008-2009    11356\n",
       "4      32458  2010-2011    20736\n",
       "5      37589  2012-2013    21982\n",
       "6      41099  2014-2015    24758"
      ]
     },
     "execution_count": 215,
     "metadata": {},
     "output_type": "execute_result"
    }
   ],
   "source": [
    "ai"
   ]
  },
  {
   "cell_type": "code",
   "execution_count": 257,
   "metadata": {},
   "outputs": [
    {
     "data": {
      "image/png": "[encoded data removed]",
      "text/plain": [
       "<Figure size 576x576 with 1 Axes>"
      ]
     },
     "metadata": {},
     "output_type": "display_data"
    }
   ],
   "source": [
    "ai.plot(x=\"year\", y=[\"In News\", \"In Papers\"], figsize = (8,8))\n",
    "plt.xticks([0,1,2,3,4,5,6],[\"2000-2001\", \"2002-2003\", \"2006-2007\", \"2008-2009\", \"2010-2011\", \"2012-2013\", \"2014-2015\"], rotation = 45)\n",
    "plt.show()"
   ]
  },
  {
   "cell_type": "markdown",
   "metadata": {},
   "source": [
    "    Fig: Comparing yearly trend of Artificial Intelligence \n",
    "                in News Articles and Research Work"
   ]
  },
  {
   "cell_type": "code",
   "execution_count": 258,
   "metadata": {},
   "outputs": [
    {
     "data": {
      "image/png": "[encoded data removed]",
      "text/plain": [
       "<Figure size 576x576 with 1 Axes>"
      ]
     },
     "metadata": {},
     "output_type": "display_data"
    }
   ],
   "source": [
    "cns.plot(x=\"year\", y=[\"In News\", \"In Papers\"], figsize = (8,8))\n",
    "plt.xticks([0,1,2,3,4],['2004-2005', '2010-2011', '2012-2013', '2014-2015', '2016-2017'], rotation = 45)\n",
    "plt.show()"
   ]
  },
  {
   "cell_type": "markdown",
   "metadata": {},
   "source": [
    "    Fig: Comparing yearly trend of Communication and Security \n",
    "                in News Articles and Research Work"
   ]
  },
  {
   "cell_type": "code",
   "execution_count": 260,
   "metadata": {},
   "outputs": [
    {
     "data": {
      "text/plain": [
       "(0.9141903476761406, 0.02978294610711028)"
      ]
     },
     "execution_count": 260,
     "metadata": {},
     "output_type": "execute_result"
    }
   ],
   "source": [
    "from scipy import stats\n",
    "stats.pearsonr(cns['In News'], cns['In Papers'])"
   ]
  },
  {
   "cell_type": "code",
   "execution_count": null,
   "metadata": {},
   "outputs": [],
   "source": []
  }
 ],
 "metadata": {
  "kernelspec": {
   "display_name": "Python 3",
   "language": "python",
   "name": "python3"
  },
  "language_info": {
   "codemirror_mode": {
    "name": "ipython",
    "version": 3
   },
   "file_extension": ".py",
   "mimetype": "text/x-python",
   "name": "python",
   "nbconvert_exporter": "python",
   "pygments_lexer": "ipython3",
   "version": "3.6.4"
  }
 },
 "nbformat": 4,
 "nbformat_minor": 2
}
